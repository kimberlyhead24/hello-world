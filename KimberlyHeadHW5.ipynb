{
  "nbformat": 4,
  "nbformat_minor": 0,
  "metadata": {
    "colab": {
      "provenance": [],
      "authorship_tag": "ABX9TyMiig+wVsHkEJj++hLEihDz",
      "include_colab_link": true
    },
    "kernelspec": {
      "name": "python3",
      "display_name": "Python 3"
    },
    "language_info": {
      "name": "python"
    }
  },
  "cells": [
    {
      "cell_type": "markdown",
      "metadata": {
        "id": "view-in-github",
        "colab_type": "text"
      },
      "source": [
        "<a href=\"https://colab.research.google.com/github/kimberlyhead24/hello-world/blob/main/KimberlyHeadHW5.ipynb\" target=\"_parent\"><img src=\"https://colab.research.google.com/assets/colab-badge.svg\" alt=\"Open In Colab\"/></a>"
      ]
    },
    {
      "cell_type": "code",
      "execution_count": 3,
      "metadata": {
        "colab": {
          "base_uri": "https://localhost:8080/"
        },
        "id": "wNY7VBzkrcxD",
        "outputId": "4405e219-8579-4ae2-81ab-9e1d0cb81c88"
      },
      "outputs": [
        {
          "output_type": "stream",
          "name": "stdout",
          "text": [
            "20 ends in 4\n",
            "20 ends in 9\n"
          ]
        }
      ],
      "source": [
        "# Counting how many squares of a number ends in 4 or 9\n",
        "count4=0\n",
        "count9=0\n",
        "for i in range(1,101):\n",
        "  if (i**2)%10==4:\n",
        "    count4 += 1\n",
        "  if (i**2)%10==9:\n",
        "    count9 += 1\n",
        "print(count4, 'ends in 4')\n",
        "print(count9, 'ends in 9')\n",
        "\n"
      ]
    },
    {
      "cell_type": "code",
      "source": [
        "# Creating a calculation adding odd numbers in the range 1-2000 and subtracting even\n",
        "sum = 0\n",
        "for i in range(1,2001):\n",
        "  if i % 2 != 0:\n",
        "    sum += i\n",
        "  if i % 2 == 0:\n",
        "    sum -= i\n",
        "print(sum)"
      ],
      "metadata": {
        "colab": {
          "base_uri": "https://localhost:8080/"
        },
        "id": "H_EeYHIWuYte",
        "outputId": "3abbeee5-aa48-4be8-cf06-6b36f5f242ef"
      },
      "execution_count": 9,
      "outputs": [
        {
          "output_type": "stream",
          "name": "stdout",
          "text": [
            "-1000\n"
          ]
        }
      ]
    },
    {
      "cell_type": "code",
      "source": [
        "# Providing the sum of the divisors of the number inputted by user\n",
        "# I also made the output a little better\n",
        "num = eval(input('Enter a number: '))\n",
        "sum = 0\n",
        "print('Divisors: ', end='')\n",
        "for i in range(1,num+1):\n",
        "  if num % i == 0:\n",
        "    print(i, end=' ')\n",
        "    sum += i\n",
        "print()\n",
        "print(f'The sum of the divisors is {sum}.')\n"
      ],
      "metadata": {
        "colab": {
          "base_uri": "https://localhost:8080/"
        },
        "id": "wQdRY-zSwpha",
        "outputId": "9e57cee1-fab9-4eaf-a37c-209735812828"
      },
      "execution_count": 25,
      "outputs": [
        {
          "output_type": "stream",
          "name": "stdout",
          "text": [
            "Enter a number: 25\n",
            "Divisors: 1 5 25 \n",
            "The sum of the divisors is 31.\n"
          ]
        }
      ]
    },
    {
      "cell_type": "code",
      "source": [
        "# Gather input from the user, get the divisors,\n",
        "# display them (good for error checking and user experience)\n",
        "# Check whether any divisors have a squareroot that is an integer\n",
        "# Display whether it is squarefree or not\n",
        "num = int(input('Enter a number: '))\n",
        "print('Divisors(except 1): ', end='')\n",
        "found_square = 0  # counts if we find a perfect square divisor (other than 1)\n",
        "\n",
        "for i in range(2, num + 1):\n",
        "    if num % i == 0:    # Looking for all divisors\n",
        "        print(i, end=' ')\n",
        "        # Check if i is a perfect square\n",
        "        for j in range(2, i):     # Use j to iterate 2-num and see if squaring it equals a divisor\n",
        "            if j * j == i:\n",
        "                found_square += 1  # found a perfect square divisor, add one to the found_square variable\n",
        "# The assignment wants a simple squarefree or not response, but I want to display all information to the user\n",
        "if found_square != 0:\n",
        "    print(f\"\\n{num} is not squarefree, it has {found_square} squares in it\")\n",
        "if found_square == 0:\n",
        "    print(f\"\\n{num} is squarefree\")\n"
      ],
      "metadata": {
        "colab": {
          "base_uri": "https://localhost:8080/"
        },
        "id": "TBaMsWiK9rn8",
        "outputId": "ce65efd9-3447-408e-e4d6-0fa745133632"
      },
      "execution_count": 10,
      "outputs": [
        {
          "output_type": "stream",
          "name": "stdout",
          "text": [
            "Enter a number: 485\n",
            "Divisors(except 1): 5 97 485 \n",
            "485 is squarefree\n"
          ]
        }
      ]
    },
    {
      "cell_type": "code",
      "source": [
        "# Swapping digits a convenient way\n",
        "x='a'\n",
        "y='b'\n",
        "z='c'\n",
        "print(x,y,z)\n",
        "x, y, z = y, z, x\n",
        "print(x,y,z)"
      ],
      "metadata": {
        "colab": {
          "base_uri": "https://localhost:8080/"
        },
        "id": "RbFxboMStGEe",
        "outputId": "a1c2daa3-33cc-4ee7-9359-cccb473f9726"
      },
      "execution_count": 11,
      "outputs": [
        {
          "output_type": "stream",
          "name": "stdout",
          "text": [
            "a b c\n",
            "b c a\n"
          ]
        }
      ]
    }
  ]
}