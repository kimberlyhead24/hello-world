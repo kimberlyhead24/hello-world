{
  "nbformat": 4,
  "nbformat_minor": 0,
  "metadata": {
    "colab": {
      "provenance": [],
      "authorship_tag": "ABX9TyO/as2hIvxG+tiz+UyBCvox",
      "include_colab_link": true
    },
    "kernelspec": {
      "name": "python3",
      "display_name": "Python 3"
    },
    "language_info": {
      "name": "python"
    }
  },
  "cells": [
    {
      "cell_type": "markdown",
      "metadata": {
        "id": "view-in-github",
        "colab_type": "text"
      },
      "source": [
        "<a href=\"https://colab.research.google.com/github/kimberlyhead24/hello-world/blob/main/KimberlyHeadHW6.ipynb\" target=\"_parent\"><img src=\"https://colab.research.google.com/assets/colab-badge.svg\" alt=\"Open In Colab\"/></a>"
      ]
    },
    {
      "cell_type": "code",
      "execution_count": 6,
      "metadata": {
        "colab": {
          "base_uri": "https://localhost:8080/"
        },
        "id": "FanV-5FvO8f2",
        "outputId": "4ac2c4bb-d24e-4078-9d88-7d1c3cbf1f38"
      },
      "outputs": [
        {
          "output_type": "stream",
          "name": "stdout",
          "text": [
            "Enter 10 test scores (E.g. 100 75 88 etc): 100 85 78 90 68 99 89 75 95 60\n",
            "The highest score is 100\n",
            "The lowest score is 60\n",
            "The average score is 84\n",
            "The second largest score is 99\n",
            "The average after dropping two lowest scores is 89\n"
          ]
        }
      ],
      "source": [
        "# Gather ten scores from user, instead of asking them ten times I am splitting\n",
        "# the input into a list of integers\n",
        "scores = input('Enter 10 test scores (E.g. 100 75 88 etc): ')\n",
        "scores = scores.strip().split()\n",
        "for i in range(len(scores)):\n",
        "    scores[i] = int(scores[i])\n",
        "\n",
        "# Error checking, I will let the program play out if it is > 100\n",
        "# But will inform the user, in case they did not want to enter a grade > 100\n",
        "for score in scores:\n",
        "    if score > 100:\n",
        "        print('A test grade greater than 100 has been entered.')\n",
        "\n",
        "# Use built-in maximum and minimum functions for python\n",
        "maximum = max(scores)\n",
        "minimum = min(scores)\n",
        "print(f'The highest score is {maximum}')\n",
        "print(f'The lowest score is {minimum}')\n",
        "\n",
        "# find average but using built-in sum fucntion and divide by the amount of grades\n",
        "total = sum(scores)\n",
        "average = total / len(scores)\n",
        "print(f'The average score is {average:.0f}')\n",
        "\n",
        "# I preferred to sort and grab the largest grade instead of finding it\n",
        "scores.sort()\n",
        "print(f'The second largest score is {scores[-2]}')\n",
        "\n",
        "# Dropping two lowest grades using sort from above\n",
        "scores_left = scores[2:]\n",
        "avg = sum(scores_left) / len(scores_left)\n",
        "print(f'The average after dropping two lowest scores is {avg:.0f}')\n"
      ]
    },
    {
      "cell_type": "code",
      "source": [
        "# Guessing Game\n",
        "from random import randint\n",
        "num = randint(1, 10)\n",
        "score = 0\n",
        "for i in range(5):\n",
        "  guess = eval(input('Enter a guess between 1 and 10: '))\n",
        "  if guess == num:\n",
        "    print('You got it!')\n",
        "    score += 10\n",
        "    num = randint(1, 10) # Allowing the user to get a new number if they guess it\n",
        "  else:\n",
        "    score -= 1\n",
        "    print('Wrong!')\n",
        "print(f'Your score is {score}')\n",
        "\n"
      ],
      "metadata": {
        "colab": {
          "base_uri": "https://localhost:8080/"
        },
        "id": "DKpldZ0QQkyB",
        "outputId": "882bd128-2d6b-405a-8a8e-a3d5c22233e0"
      },
      "execution_count": 5,
      "outputs": [
        {
          "output_type": "stream",
          "name": "stdout",
          "text": [
            "Enter a guess between 1 and 10: 10\n",
            "You got it!\n",
            "Enter a guess between 1 and 10: 8\n",
            "Wrong!\n",
            "Enter a guess between 1 and 10: 7\n",
            "Wrong!\n",
            "Enter a guess between 1 and 10: 6\n",
            "Wrong!\n",
            "Enter a guess between 1 and 10: 8\n",
            "Wrong!\n",
            "Your score is 6\n"
          ]
        }
      ]
    }
  ]
}