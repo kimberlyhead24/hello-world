{
  "nbformat": 4,
  "nbformat_minor": 0,
  "metadata": {
    "colab": {
      "provenance": [],
      "authorship_tag": "ABX9TyNpfcCmrm0KP0z0NZS4iUYh",
      "include_colab_link": true
    },
    "kernelspec": {
      "name": "python3",
      "display_name": "Python 3"
    },
    "language_info": {
      "name": "python"
    }
  },
  "cells": [
    {
      "cell_type": "markdown",
      "metadata": {
        "id": "view-in-github",
        "colab_type": "text"
      },
      "source": [
        "<a href=\"https://colab.research.google.com/github/kimberlyhead24/hello-world/blob/main/KimberlyHead_LecturePractice_4.ipynb\" target=\"_parent\"><img src=\"https://colab.research.google.com/assets/colab-badge.svg\" alt=\"Open In Colab\"/></a>"
      ]
    },
    {
      "cell_type": "code",
      "execution_count": null,
      "metadata": {
        "colab": {
          "base_uri": "https://localhost:8080/"
        },
        "id": "ogU46LjiMYBI",
        "outputId": "3f4344b4-7ad3-4eb1-f61d-40218dbf015a"
      },
      "outputs": [
        {
          "output_type": "stream",
          "name": "stdout",
          "text": [
            "[3, 6, 9, 12, 15, 18, 21, 24, 27, 30, 33, 36, 39, 42, 45, 48, 51, 54, 57, 60, 63, 66, 69, 72, 75, 78, 81, 84, 87, 90, 93, 96, 99]\n"
          ]
        }
      ],
      "source": [
        "# Program that uses the list() and range to create the multiples of 3\n",
        "multiples_of_threes = list(range(3, 100, 3))\n",
        "print(multiples_of_threes)\n"
      ]
    },
    {
      "cell_type": "code",
      "source": [
        "# Program to find all numbers between 1 and 1000 that are\n",
        "# divisible by 7 and end in 6\n",
        "divisible7_end6 = []\n",
        "for i in range(1, 10000):\n",
        "    if i % 7 == 0 and str(i)[-1] == '6':\n",
        "        divisible7_end6.append(i)\n",
        "\n",
        "# This is just for easy display of the numbers\n",
        "count = 0\n",
        "for num in divisible7_end6:\n",
        "    print(num, end=\" \")\n",
        "    count += 1\n",
        "    if count == 5:\n",
        "        print()\n",
        "        count = 0"
      ],
      "metadata": {
        "id": "aSMJhWQWM3WW",
        "colab": {
          "base_uri": "https://localhost:8080/"
        },
        "outputId": "705050be-cb89-4cf6-dc38-81b973230d6a"
      },
      "execution_count": 11,
      "outputs": [
        {
          "output_type": "stream",
          "name": "stdout",
          "text": [
            "56 126 196 266 336 \n",
            "406 476 546 616 686 \n",
            "756 826 896 966 1036 \n",
            "1106 1176 1246 1316 1386 \n",
            "1456 1526 1596 1666 1736 \n",
            "1806 1876 1946 2016 2086 \n",
            "2156 2226 2296 2366 2436 \n",
            "2506 2576 2646 2716 2786 \n",
            "2856 2926 2996 3066 3136 \n",
            "3206 3276 3346 3416 3486 \n",
            "3556 3626 3696 3766 3836 \n",
            "3906 3976 4046 4116 4186 \n",
            "4256 4326 4396 4466 4536 \n",
            "4606 4676 4746 4816 4886 \n",
            "4956 5026 5096 5166 5236 \n",
            "5306 5376 5446 5516 5586 \n",
            "5656 5726 5796 5866 5936 \n",
            "6006 6076 6146 6216 6286 \n",
            "6356 6426 6496 6566 6636 \n",
            "6706 6776 6846 6916 6986 \n",
            "7056 7126 7196 7266 7336 \n",
            "7406 7476 7546 7616 7686 \n",
            "7756 7826 7896 7966 8036 \n",
            "8106 8176 8246 8316 8386 \n",
            "8456 8526 8596 8666 8736 \n",
            "8806 8876 8946 9016 9086 \n",
            "9156 9226 9296 9366 9436 \n",
            "9506 9576 9646 9716 9786 \n",
            "9856 9926 9996 "
          ]
        }
      ]
    }
  ]
}