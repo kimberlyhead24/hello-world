{
  "nbformat": 4,
  "nbformat_minor": 0,
  "metadata": {
    "colab": {
      "provenance": [],
      "authorship_tag": "ABX9TyNS/kbNN0GrJPA9kcmUa9sU",
      "include_colab_link": true
    },
    "kernelspec": {
      "name": "python3",
      "display_name": "Python 3"
    },
    "language_info": {
      "name": "python"
    }
  },
  "cells": [
    {
      "cell_type": "markdown",
      "metadata": {
        "id": "view-in-github",
        "colab_type": "text"
      },
      "source": [
        "<a href=\"https://colab.research.google.com/github/kimberlyhead24/hello-world/blob/main/KimberlyHead_LecturePractice_3_WhileLoops.ipynb\" target=\"_parent\"><img src=\"https://colab.research.google.com/assets/colab-badge.svg\" alt=\"Open In Colab\"/></a>"
      ]
    },
    {
      "cell_type": "code",
      "execution_count": 4,
      "metadata": {
        "colab": {
          "base_uri": "https://localhost:8080/"
        },
        "id": "Z-g-4ToAko9q",
        "outputId": "c291e5bc-39f6-457c-c504-781b410dc2e7"
      },
      "outputs": [
        {
          "output_type": "stream",
          "name": "stdout",
          "text": [
            "H\n",
            "e\n",
            "l\n",
            "l\n",
            "o\n",
            " \n",
            "t\n",
            "h\n",
            "i\n",
            "s\n",
            " \n",
            "i\n",
            "s\n",
            " \n",
            "m\n",
            "y\n",
            " \n",
            "f\n",
            "i\n",
            "r\n",
            "s\n",
            "t\n",
            " \n",
            "w\n",
            "h\n",
            "i\n",
            "l\n",
            "e\n",
            " \n",
            "l\n",
            "o\n",
            "o\n",
            "p\n",
            ".\n"
          ]
        }
      ],
      "source": [
        "# Creating a program using a while loop to iterate through the\n",
        "# entire string one character at a time printed on different line\n",
        "\n",
        "# Create a string\n",
        "string = 'Hello this is my first while loop.'\n",
        "\n",
        "# set index variable to 0\n",
        "i = 0\n",
        "\n",
        "# Many ways to do this but I am saying while index does not equal the\n",
        "# length of the string print the value of the index\n",
        "while i != len(string):\n",
        "  print(string[i])\n",
        "  i += 1     # Iterate up the index each round and avoid infinite loop"
      ]
    },
    {
      "cell_type": "code",
      "source": [
        "# Program to allow five attempts to get the correct password or you\n",
        "# are kicked off the login\n",
        "\n",
        "# set a password to variable password\n",
        "password = 'password123'\n",
        "\n",
        "# We need to keep track of the attempts\n",
        "attempts = 0\n",
        "\n",
        "# Using the attempts variable allows you to keep track of how many attempts\n",
        "# while we are less than 5 attempts we run throught the repeated cycle\n",
        "while attempts < 5:\n",
        "    password_try = input('Please enter your password: ')\n",
        "    if password_try == password:         # If the password_try equals the set password\n",
        "        print(\"You are logged in.\")      # we allow the login and break out of the cycle\n",
        "        break\n",
        "    attempts += 1                       # iterate up attempts on each attempt\n",
        "else:\n",
        "    print('You are kicked off the system.')\n",
        "# after the loop is unsuccesful at logging in we move to the else block and\n",
        "# kick the user off of the system\n",
        "\n"
      ],
      "metadata": {
        "colab": {
          "base_uri": "https://localhost:8080/"
        },
        "id": "4_lVbXcZnduQ",
        "outputId": "2c6811f0-1d1c-407f-8f2e-121191fd8b17"
      },
      "execution_count": 7,
      "outputs": [
        {
          "output_type": "stream",
          "name": "stdout",
          "text": [
            "Please enter your password: password123\n",
            "You are logged in.\n"
          ]
        }
      ]
    }
  ]
}