{
  "nbformat": 4,
  "nbformat_minor": 0,
  "metadata": {
    "colab": {
      "provenance": [],
      "authorship_tag": "ABX9TyN+lk+DnOgZBaOCLYdTrxFf",
      "include_colab_link": true
    },
    "kernelspec": {
      "name": "python3",
      "display_name": "Python 3"
    },
    "language_info": {
      "name": "python"
    }
  },
  "cells": [
    {
      "cell_type": "markdown",
      "metadata": {
        "id": "view-in-github",
        "colab_type": "text"
      },
      "source": [
        "<a href=\"https://colab.research.google.com/github/kimberlyhead24/hello-world/blob/main/KimberlyHeadlp1.ipynb\" target=\"_parent\"><img src=\"https://colab.research.google.com/assets/colab-badge.svg\" alt=\"Open In Colab\"/></a>"
      ]
    },
    {
      "cell_type": "code",
      "execution_count": 6,
      "metadata": {
        "colab": {
          "base_uri": "https://localhost:8080/"
        },
        "id": "KwKmMzjAeeiM",
        "outputId": "95641f90-f5ff-4e6c-e1a0-09ad80592fdb"
      },
      "outputs": [
        {
          "output_type": "stream",
          "name": "stdout",
          "text": [
            "62 42 83 94 39 68 19 88 66 32 \n",
            "85 53 50 100 51 82 16 68 11 1 \n",
            "75 40 13 39 39 94 86 82 26 35 \n",
            "31 61 98 98 21 26 60 62 95 21 \n",
            "83 10 74 41 83 15 55 59 9 50 \n"
          ]
        }
      ],
      "source": [
        "from random import randint\n",
        "\n",
        "# Generate random list of 50 numbers 1 through 100\n",
        "L = []\n",
        "for i in range(50):\n",
        "    L.append(randint(1, 100))\n",
        "\n",
        "# Print 10 numbers per line in list format (I just wanted it easier to read)\n",
        "for i in range(0, len(L), 10):\n",
        "    print(L[i:i+10])\n"
      ]
    },
    {
      "cell_type": "code",
      "source": [
        "# Replace each element in a list L with its square\n",
        "L = [1, 2, 3, 4, 5, 6, 7, 8, 9, 10, 11, 12]\n",
        "for i in range(len(L)):\n",
        "    L[i] = L[i] * L[i]  # square the number at index i\n",
        "print(L)"
      ],
      "metadata": {
        "colab": {
          "base_uri": "https://localhost:8080/"
        },
        "id": "MrR74BKwjgcg",
        "outputId": "ab578402-eaad-4eef-c3b5-a20501eef667"
      },
      "execution_count": 13,
      "outputs": [
        {
          "output_type": "stream",
          "name": "stdout",
          "text": [
            "[1, 4, 9, 16, 25, 36, 49, 64, 81, 100, 121, 144]\n"
          ]
        }
      ]
    },
    {
      "cell_type": "code",
      "source": [
        "# Creating a random list of 50 numbers between 1 and 100\n",
        "# Then we will count how many are greater than 50\n",
        "# As a quality check I also printed the numbers\n",
        "from random import randint\n",
        "L2 = []            # Create initial list of 50 numbers between 1 and 100\n",
        "for i in range(50):\n",
        "    L2.append(randint(1, 100))\n",
        "\n",
        "L3 = []          # Create a new list of only the numbers in the first list greater than 50\n",
        "result = 0       # Use a count variable\n",
        "for x in L2:     # For loop that adds 1 to the count if greater than 50 and appends the value to the new list\n",
        "  if x > 50:\n",
        "    result += 1\n",
        "    L3.append(x)\n",
        "\n",
        "print(f'There are {result} numbers greater than 50 in the list.')\n",
        "print(f'Here are the numbers greater than 50\\n{L3}')"
      ],
      "metadata": {
        "colab": {
          "base_uri": "https://localhost:8080/"
        },
        "id": "MQqfnv4JlfUD",
        "outputId": "2c20cc94-b701-423f-c825-b46259def105"
      },
      "execution_count": 17,
      "outputs": [
        {
          "output_type": "stream",
          "name": "stdout",
          "text": [
            "There are 28 numbers greater than 50 in the list.\n",
            "Here are the numbers greater than 50\n",
            "[56, 97, 81, 74, 61, 80, 71, 51, 72, 80, 60, 53, 58, 58, 81, 97, 59, 90, 80, 100, 59, 54, 60, 54, 64, 94, 80, 93]\n"
          ]
        }
      ]
    },
    {
      "cell_type": "code",
      "source": [
        "# Same as above, but I have been finding out that you can condense the for loops\n",
        "# within the definition of a variable and the between the list brackets\n",
        "# new_list = [<expression> for <item> in <collection> if <condition>]\n",
        "from random import randint\n",
        "L2 = [randint(1, 100) for i in range(50)]      # Creates a list of 50 random ints (1-100), no need for append because the brackets appends automatically\n",
        "                                               # object first (randint(1, 100)), i is item, collection is range(50)\n",
        "\n",
        "L3 = [x for x in L2 if x > 50]                 # Filters L2 for numbers greater than 50, x is object, x is item, L2 is collection, > 50 is condition\n",
        "\n",
        "print(f'There are {len(L3)} numbers greater than 50 in the list.')\n",
        "print(f'Here are the numbers greater than 50\\n{L3}')"
      ],
      "metadata": {
        "colab": {
          "base_uri": "https://localhost:8080/"
        },
        "id": "qUjRoPtkQH8r",
        "outputId": "9221c6b2-a204-4f5d-a525-16a455c36ada"
      },
      "execution_count": 16,
      "outputs": [
        {
          "output_type": "stream",
          "name": "stdout",
          "text": [
            "There are 23 numbers greater than 50 in the list.\n",
            "Here are the numbers greater than 50\n",
            "[57, 58, 81, 87, 68, 54, 53, 64, 93, 63, 83, 92, 91, 69, 52, 60, 98, 56, 86, 97, 85, 94, 78]\n"
          ]
        }
      ]
    },
    {
      "cell_type": "code",
      "source": [
        "# Prompt the user to enter a list of numbers between 1 and 100.\n",
        "# Create a new list where each element counts the number of times a number appears\n",
        "\n",
        "L4 = eval(input('Enter a list of numbers between 1 and 100: '))\n",
        "count_list = [L4.count(i) for i in range(1, 101)]      # for every i from 1 to 100, count counts how many show up\n",
        "\n",
        "for i in range(0, len(count_list), 10):     # For better display use a for loop to show the list\n",
        "    print(count_list[i:i+10])               # in sets of 10"
      ],
      "metadata": {
        "colab": {
          "base_uri": "https://localhost:8080/"
        },
        "id": "8EBRky4hVBuf",
        "outputId": "015fbf24-9f55-46c5-cbf0-d31557c48c4f"
      },
      "execution_count": 18,
      "outputs": [
        {
          "output_type": "stream",
          "name": "stdout",
          "text": [
            "Enter a list of numbers between 1 and 100: [1, 4, 5, 7, 8, 8, 9, 9, 21, 25, 38, 68, 98, 50, 100, 75, 75, 75, 66, 44, 33, 2, 3, 5, 77, 8, 98, 66, 5]\n",
            "[1, 1, 1, 1, 3, 0, 1, 3, 2, 0]\n",
            "[0, 0, 0, 0, 0, 0, 0, 0, 0, 0]\n",
            "[1, 0, 0, 0, 1, 0, 0, 0, 0, 0]\n",
            "[0, 0, 1, 0, 0, 0, 0, 1, 0, 0]\n",
            "[0, 0, 0, 1, 0, 0, 0, 0, 0, 1]\n",
            "[0, 0, 0, 0, 0, 0, 0, 0, 0, 0]\n",
            "[0, 0, 0, 0, 0, 2, 0, 1, 0, 0]\n",
            "[0, 0, 0, 0, 3, 0, 1, 0, 0, 0]\n",
            "[0, 0, 0, 0, 0, 0, 0, 0, 0, 0]\n",
            "[0, 0, 0, 0, 0, 0, 0, 2, 0, 1]\n"
          ]
        }
      ]
    },
    {
      "cell_type": "code",
      "source": [
        "# Gathering scores from the user and displaying the two smallest and two largest\n",
        "scores = eval(input('Enter scores (e.g. 99, 88, 75: )'))\n",
        "scores = list(scores)\n",
        "scores.sort()              # Simpler to sort and use indexing\n",
        "\n",
        "largest = [x for x in scores if x == scores[-1] or x == scores[-2]]  # Using the new method I learned\n",
        "smallest = [x for x in scores if x == scores[0] or x == scores[1]]   # By creating two new lists and putting\n",
        "                                                                     # the four loop in the brackets\n",
        "\n",
        "print(f' The two largest scores: {largest}')\n",
        "print(f'The two smallest scores: {smallest}')\n"
      ],
      "metadata": {
        "colab": {
          "base_uri": "https://localhost:8080/"
        },
        "id": "7tdBvhVVxMiL",
        "outputId": "1833bd3f-4127-48b0-8692-7aad41e96fb8"
      },
      "execution_count": 16,
      "outputs": [
        {
          "output_type": "stream",
          "name": "stdout",
          "text": [
            "Enter scores (e.g. 99, 88, 75: )100, 55, 65, 80, 90, 98, 35, 0, 65, 88\n",
            " The two largest scores: [98, 100]\n",
            "The two smallest scores: [0, 35]\n"
          ]
        }
      ]
    }
  ]
}