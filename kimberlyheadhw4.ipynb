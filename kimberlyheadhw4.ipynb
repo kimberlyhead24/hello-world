{
  "nbformat": 4,
  "nbformat_minor": 0,
  "metadata": {
    "colab": {
      "provenance": [],
      "authorship_tag": "ABX9TyPmXeXWFGDSqckJ5V73FX6r",
      "include_colab_link": true
    },
    "kernelspec": {
      "name": "python3",
      "display_name": "Python 3"
    },
    "language_info": {
      "name": "python"
    }
  },
  "cells": [
    {
      "cell_type": "markdown",
      "metadata": {
        "id": "view-in-github",
        "colab_type": "text"
      },
      "source": [
        "<a href=\"https://colab.research.google.com/github/kimberlyhead24/hello-world/blob/main/kimberlyheadhw4.ipynb\" target=\"_parent\"><img src=\"https://colab.research.google.com/assets/colab-badge.svg\" alt=\"Open In Colab\"/></a>"
      ]
    },
    {
      "cell_type": "code",
      "execution_count": 3,
      "metadata": {
        "colab": {
          "base_uri": "https://localhost:8080/"
        },
        "id": "OPgLBzFAhsRn",
        "outputId": "3cf82cbb-41d9-42bc-9708-24f816ca1899"
      },
      "outputs": [
        {
          "output_type": "stream",
          "name": "stdout",
          "text": [
            "Enter temperature: 89\n",
            "Enter units (C or F): f\n",
            "32\n"
          ]
        }
      ],
      "source": [
        "# Get temperature and units from user and convert based on the units c -> f or f -> c\n",
        "temp = eval(input('Enter temperature: '))\n",
        "units = input('Enter units (C or F): ').upper()\n",
        "farenheit = ((temp * (9/5)) + 32)\n",
        "celsius = ((temp - 32) * (5/9))\n",
        "if units == 'C':\n",
        "  print(f'{farenheit:.0f}')\n",
        "elif units == 'F':\n",
        "  print(f'{celsius:.0f}')\n",
        "else:\n",
        "  print('Invalid units')\n"
      ]
    },
    {
      "cell_type": "code",
      "source": [
        "# Gather temperarute and unit as one input from user, split up the users input\n",
        "# Use indexing to find the unit and value and then convert to c or f\n",
        "temp_input = input('Enter temperature and unit (E.g. 101 F, 38 C): ')\n",
        "parts = temp_input.strip().split()\n",
        "temp = float(parts[0])\n",
        "units = parts[1].upper()\n",
        "farenheit = ((temp * (9/5)) + 32)\n",
        "celsius = ((temp - 32) * (5/9))\n",
        "if units == 'C':\n",
        "  fahrenheit = (temp * 9/5) + 32\n",
        "  print(f'{fahrenheit:.0f} degrees farenheit')\n",
        "elif units == 'F':\n",
        "  celsius = (temp - 32) * 5/9\n",
        "  print(f'{celsius:.0f} degrees C')\n",
        "else:\n",
        "  print('Invalid input')\n",
        ""
      ],
      "metadata": {
        "colab": {
          "base_uri": "https://localhost:8080/"
        },
        "id": "xOTO98_qw8q2",
        "outputId": "7ae9c1de-3297-4bfe-ef4d-ad4c18305ff3"
      },
      "execution_count": 20,
      "outputs": [
        {
          "output_type": "stream",
          "name": "stdout",
          "text": [
            "Enter temperature and unit (E.g. 101 F, 38 C): 38 c\n",
            "100 degrees farenheit\n"
          ]
        }
      ]
    },
    {
      "cell_type": "code",
      "source": [
        "# Categorizing a temperature gathered from the user on what the temperature means\n",
        "temp = eval(input('Enter temperature in Celsius: '))\n",
        "if temp < -273.15:\n",
        "  print('The temperature is invalid because it is below absolute zero')\n",
        "elif temp == -273.15:\n",
        "  print('The temperature us absolute zero.')\n",
        "elif -273.15 < temp < 0:\n",
        "  print('The temperature is below freezing.')\n",
        "elif temp == 0:\n",
        "  print('The temperature is at the freezing point.')\n",
        "elif 0 < temp < 100:\n",
        "  print('The temperature is in the normal range.')\n",
        "elif temp == 100:\n",
        "  print('The temperature is at the boiling point.')\n",
        "elif temp > 100:\n",
        "  print('The temperature is above the boiling point.')"
      ],
      "metadata": {
        "colab": {
          "base_uri": "https://localhost:8080/"
        },
        "id": "V3w9sw9o0wvr",
        "outputId": "836924a8-2c52-4cc4-9c22-c8acb8a8a056"
      },
      "execution_count": 30,
      "outputs": [
        {
          "output_type": "stream",
          "name": "stdout",
          "text": [
            "Enter temperature in Celsius: 101\n",
            "The temperature is above the boiling point.\n"
          ]
        }
      ]
    },
    {
      "cell_type": "code",
      "source": [
        "# using randint  to get a random number from 1 and 10 and evaluating whether\n",
        "# the user guessed the correct number\n",
        "from random import randint\n",
        "num = randint(1,10)\n",
        "guess = eval(input('Guess a number between 1 and 10: '))\n",
        "if guess == num:\n",
        "  print('Correct')\n",
        "else:\n",
        "  print('Incorrect')"
      ],
      "metadata": {
        "colab": {
          "base_uri": "https://localhost:8080/"
        },
        "id": "_-H3pRSy5Qes",
        "outputId": "4c446085-6cf3-4bda-e9d5-97f8673d225a"
      },
      "execution_count": 42,
      "outputs": [
        {
          "output_type": "stream",
          "name": "stdout",
          "text": [
            "Guess a number between 1 and 10: 6\n",
            "Incorrect\n"
          ]
        }
      ]
    },
    {
      "cell_type": "code",
      "source": [
        "# Asks the user for two numbers and checks to see how close the numbers are\n",
        "# If the number is within .001 of each other we say they are close\n",
        "numbers = input('Enter two numbers to the thousandths or more range (E.g. 24.001 24.003): ')\n",
        "two_numbers = numbers.strip().split()\n",
        "num1 = float(two_numbers[0])\n",
        "num2 = float(two_numbers[1])\n",
        "difference = abs(num1 - num2)\n",
        "if difference <= 0.001:\n",
        "  print('Close')\n",
        "else:\n",
        "  print('Not close')\n"
      ],
      "metadata": {
        "colab": {
          "base_uri": "https://localhost:8080/"
        },
        "id": "l01veM5n5zL7",
        "outputId": "0b80aff4-4685-439a-e971-c73d80f5aab4"
      },
      "execution_count": 47,
      "outputs": [
        {
          "output_type": "stream",
          "name": "stdout",
          "text": [
            "Enter two numbers to the thousandths range (E.g. 24.001 24.003): 1.004 1.007\n",
            "Not close\n"
          ]
        }
      ]
    },
    {
      "cell_type": "code",
      "source": [
        "# We are calculating what time it will be after a given time ahead value\n",
        "time = eval(input('Enter hour: '))\n",
        "hour_type = input('am (1) or pm (2)? ')\n",
        "if hour_type == '1':\n",
        "    day_night = 'am'\n",
        "elif hour_type == '2':\n",
        "    day_night = 'pm'\n",
        "\n",
        "time_ahead = eval(input('How many hours ahead? '))\n",
        "\n",
        "# Calculate future day_night and hour\n",
        "new_total = time + time_ahead\n",
        "# Each 12 hours is a swap of am to pm or pm to am\n",
        "day_swaps = new_total // 12\n",
        "if day_swaps % 2 == 1:\n",
        "    day_night = 'pm' if day_night == 'am' else 'am'\n",
        "# gives the difference after swap\n",
        "new_hour = new_total % 12\n",
        "if new_hour == 0:\n",
        "    new_hour = 12\n",
        "\n",
        "print(f'New hour: {new_hour} {day_night}')\n",
        "\n",
        "\n",
        "\n"
      ],
      "metadata": {
        "colab": {
          "base_uri": "https://localhost:8080/"
        },
        "id": "gavIYAsy-b3f",
        "outputId": "3c3b61db-7981-43e8-d4d0-08c2c743f861"
      },
      "execution_count": 57,
      "outputs": [
        {
          "output_type": "stream",
          "name": "stdout",
          "text": [
            "Enter hour: 6\n",
            "am (1) or pm (2)? 2\n",
            "How many hours ahead? 6\n",
            "New hour: 12 am\n"
          ]
        }
      ]
    }
  ]
}