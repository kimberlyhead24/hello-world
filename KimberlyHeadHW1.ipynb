{
  "nbformat": 4,
  "nbformat_minor": 0,
  "metadata": {
    "colab": {
      "provenance": [],
      "authorship_tag": "ABX9TyMjsxDBnlJv0n1L+a1p+c6j",
      "include_colab_link": true
    },
    "kernelspec": {
      "name": "python3",
      "display_name": "Python 3"
    },
    "language_info": {
      "name": "python"
    }
  },
  "cells": [
    {
      "cell_type": "markdown",
      "metadata": {
        "id": "view-in-github",
        "colab_type": "text"
      },
      "source": [
        "<a href=\"https://colab.research.google.com/github/kimberlyhead24/hello-world/blob/main/KimberlyHeadHW1.ipynb\" target=\"_parent\"><img src=\"https://colab.research.google.com/assets/colab-badge.svg\" alt=\"Open In Colab\"/></a>"
      ]
    },
    {
      "cell_type": "code",
      "execution_count": 26,
      "metadata": {
        "id": "6fDTkYwYItgl",
        "colab": {
          "base_uri": "https://localhost:8080/"
        },
        "outputId": "740edfc8-aba1-4698-fe65-795dbdd9640f"
      },
      "outputs": [
        {
          "output_type": "stream",
          "name": "stdout",
          "text": [
            "Enter a list of integers: 10, 1, 5, 6, 7, 8, 3, 5, 5, 1, 4, 8\n",
            "The total number of items in the list is 12\n",
            "The last item in the list is 8\n",
            "The list in reverse is [8, 4, 1, 5, 5, 3, 8, 7, 6, 5, 1, 10]\n",
            "Yes\n",
            "Number 5 is in integers 3 time(s)\n",
            "The sorted list is [1, 1, 3, 4, 5, 5, 5, 6, 7, 8]\n",
            "Number of items in the list that are less than 5 is 4\n"
          ]
        }
      ],
      "source": [
        "# Get a list of numbers from user and perform operations and alters to the list\n",
        "integers = eval(input(\"Enter a list of integers: \"))\n",
        "integers = list(integers)\n",
        "print('The total number of items in the list is', len(integers))     # Easy one, number of items in the list\n",
        "print('The last item in the list is', integers[-1])                  # Last item in the list\n",
        "integers.reverse()                                                   # using newly learned reverse() list function\n",
        "print('The list in reverse is', integers)\n",
        "if 5 in integers:                                                     # if 5 is in the list, print yes, otherwise no\n",
        "    print('Yes')\n",
        "else:\n",
        "    print('No')\n",
        "print('Number 5 is in integers', integers.count(5), 'time(s)')    # counting the number of 5's and using new count function instead of count variable\n",
        "new_integers = integers[1:-1]                          # Remove the first and last item\n",
        "sorted_integers = sorted(new_integers)                 # sort the list\n",
        "print('The sorted list is', sorted_integers)\n",
        "count2 = 0                                          # set new count variable to count anything < 5\n",
        "for item in integers:\n",
        "  if item < 5:\n",
        "    count2 += 1\n",
        "print('Number of items in the list that are less than 5 is', count2)\n"
      ]
    },
    {
      "cell_type": "code",
      "source": [
        "# Creating a random list and finding averages, largest, smallest, even numbers, etc\n",
        "from random import randint\n",
        "rand_num_list = []\n",
        "for num in range(20):\n",
        "    rand_num_list.append(randint(1,100))\n",
        "print(rand_num_list)\n",
        "\n",
        "# Straight forward sum and divide by len for average\n",
        "avg = sum(rand_num_list)/len(rand_num_list)\n",
        "print(f'Average: {avg:.0f}')\n",
        "\n",
        "# Max and min work too but since we are also gathering the second largest\n",
        "# we may as well sort the list and ust grab indexes\n",
        "sorted_list = sorted(rand_num_list)\n",
        "print('Smallest:', sorted_list[0], 'Largest:', sorted_list[-1])\n",
        "print('2nd Smallest:', sorted_list[1], '2nd Largest:', sorted_list[-2])\n",
        "\n",
        "# To count even numbers I wanted to find a shorthand if statement and I was\n",
        "# unable to use count(for num in rand_num_list if num % 2 == 0), but printing 1\n",
        "# for every even number and summing it does work\n",
        "even_count = sum(1 for num in rand_num_list if num % 2 == 0)\n",
        "print('Even numbers:', even_count)\n"
      ],
      "metadata": {
        "colab": {
          "base_uri": "https://localhost:8080/"
        },
        "id": "_BJ846SuFK7g",
        "outputId": "8fe55db1-0861-4676-d7d9-c7c387538baf"
      },
      "execution_count": null,
      "outputs": [
        {
          "output_type": "stream",
          "name": "stdout",
          "text": [
            "[100, 26, 2, 81, 81, 5, 13, 35, 40, 62, 62, 93, 62, 95, 91, 94, 56, 98, 35, 45]\n",
            "Average: 59\n",
            "Smallest: 2 Largest: 100\n",
            "2nd Smallest: 5 2nd Largest: 98\n",
            "Even numbers: 10\n"
          ]
        }
      ]
    },
    {
      "cell_type": "code",
      "source": [
        "# create list3 which is for problem 3 and then change the list\n",
        "list3 = [8, 9, 10]\n",
        "\n",
        "# change index 1 to 17\n",
        "list3[1] = 17\n",
        "\n",
        "# add 4, 5, 6 to list\n",
        "list3 = list3 + [4, 5, 6]\n",
        "\n",
        "# remove the first entry\n",
        "list3.pop(0)\n",
        "\n",
        "# sort the list\n",
        "list3 = sorted(list3)\n",
        "\n",
        "# double the list\n",
        "list3 = list3 * 2\n",
        "\n",
        "# insert 25 at index 3 instead of replacing\n",
        "list3.insert(3, 25)\n",
        "print(list3)"
      ],
      "metadata": {
        "colab": {
          "base_uri": "https://localhost:8080/"
        },
        "id": "wOZn1h1XLMFH",
        "outputId": "7587cc5c-b001-46a5-f8bd-97d22579c55f"
      },
      "execution_count": null,
      "outputs": [
        {
          "output_type": "stream",
          "name": "stdout",
          "text": [
            "[4, 5, 6, 25, 10, 17, 4, 5, 6, 10, 17]\n"
          ]
        }
      ]
    },
    {
      "cell_type": "code",
      "source": [
        "# Create a list of numbers between 1 and 12 from the user and then replace\n",
        "# every number greater than 10 with 10\n",
        "list4 = eval(input(\"Enter a list with numbers between 1 and 12: \"))\n",
        "for i in range(len(list4)):\n",
        "    if list4[i] > 10:     # After many tries this is the best way using if loop\n",
        "        list4[i] = 10\n",
        "print(list4)\n",
        "\n"
      ],
      "metadata": {
        "colab": {
          "base_uri": "https://localhost:8080/"
        },
        "id": "Dq7MEIhWNz5a",
        "outputId": "ee77aca8-7589-41da-ec2d-92592d836cf3"
      },
      "execution_count": null,
      "outputs": [
        {
          "output_type": "stream",
          "name": "stdout",
          "text": [
            "Enter a list with numbers between 1 and 12: [9, 4, 7, 5, 2, 4, 6, 10, 2, 12, 11, 10, 6]\n",
            "[9, 4, 7, 5, 2, 4, 6, 10, 2, 10, 10, 10, 6]\n"
          ]
        }
      ]
    },
    {
      "cell_type": "code",
      "source": [
        "# Gathering a list of strings and creating a new list missing the character\n",
        "# at index 0\n",
        "strings = input('Enter a list of strings: ')\n",
        "strings = strings.split()\n",
        "new_strings = []\n",
        "\n",
        "for string in strings:\n",
        "    new_strings.append(string[1:])\n",
        "    # I tried many ways and appending\n",
        "    # with indexing works the best\n",
        "\n",
        "print(new_strings)\n"
      ],
      "metadata": {
        "colab": {
          "base_uri": "https://localhost:8080/"
        },
        "id": "ocA5P9QE8RzQ",
        "outputId": "23f782b7-6fa1-4ce8-98fe-48d370f00655"
      },
      "execution_count": null,
      "outputs": [
        {
          "output_type": "stream",
          "name": "stdout",
          "text": [
            "Enter a list of strings: string hello how are you today\n",
            "['tring', 'ello', 'ow', 're', 'ou', 'oday']\n"
          ]
        }
      ]
    },
    {
      "cell_type": "code",
      "source": [
        "# Gathering two lists from the user and summing the numbers at L[i] and M[i], then creating a list of the sums in order\n",
        "L = eval(input('Enter list 1 as a Python list ([1, 2, 3]): '))\n",
        "M = eval(input('Enter list 2 as a Python list ( [4, 5, 6]): '))\n",
        "\n",
        "N = []                        # New list to append sums to\n",
        "for i in range(len(L)):       # Go through each number\n",
        "    N.append(L[i] + M[i])     # Append the numbers at i for each list to new list\n",
        "\n",
        "print(N)\n"
      ],
      "metadata": {
        "id": "ZYqDMMDU78GP",
        "colab": {
          "base_uri": "https://localhost:8080/"
        },
        "outputId": "95c94d26-dd16-4aa4-9fb7-4eacfb1027d9"
      },
      "execution_count": 10,
      "outputs": [
        {
          "output_type": "stream",
          "name": "stdout",
          "text": [
            "Enter list 1 as a Python list ([1, 2, 3]): [3, 4, 5]\n",
            "Enter list 2 as a Python list ( [4, 5, 6]): [5, 4, 3]\n",
            "[8, 8, 8]\n"
          ]
        }
      ]
    },
    {
      "cell_type": "code",
      "source": [
        "# With a number from the user, we will find all factors\n",
        "\n",
        "integer = eval(input('Enter an integer: '))\n",
        "factors = []                                # Create a new list to append factors to\n",
        "for i in range(1, integer + 1):             # we want to go through every number up until the number given\n",
        "    if integer % i == 0:                    # if there is modulo equals 0 when divided by the number it is a factor\n",
        "        factors.append(i)                   # Append the factors to the list\n",
        "print(factors)"
      ],
      "metadata": {
        "colab": {
          "base_uri": "https://localhost:8080/"
        },
        "id": "46sCp8TeI_qw",
        "outputId": "c5c941a6-8357-4a50-889a-a9cb6724e050"
      },
      "execution_count": 14,
      "outputs": [
        {
          "output_type": "stream",
          "name": "stdout",
          "text": [
            "Enter an integer: 150\n",
            "[1, 2, 3, 5, 6, 10, 15, 25, 30, 50, 75, 150]\n"
          ]
        }
      ]
    },
    {
      "cell_type": "code",
      "source": [
        "# Gathering a list from user and shifting index 0  from old list to index 1 of new\n",
        "# list and last index wraps around to index 0 on new list\n",
        "\n",
        "list8 = eval(input(\"Enter a list (e.g., ['hello', '8', 'my']): \"))\n",
        "\n",
        "new_list = []                # create a list to append to\n",
        "for i in range(len(list8))   # iterate through the old list\n",
        "    new_list.append(list8[i-1]) # we are calling the spot from the old list which is\n",
        "                                # why we do i-1 instead of our goal of new list being i+1\n",
        "print(new_list)\n",
        "\n"
      ],
      "metadata": {
        "colab": {
          "base_uri": "https://localhost:8080/"
        },
        "id": "hRaCPYolJivR",
        "outputId": "341079ad-03e9-4abf-8a5b-2d23571fa214"
      },
      "execution_count": 22,
      "outputs": [
        {
          "output_type": "stream",
          "name": "stdout",
          "text": [
            "Enter a list (e.g., ['hello', '8', 'my']): ['hello', '8', 'my']\n",
            "['my', 'hello', '8']\n"
          ]
        }
      ]
    }
  ]
}