{
  "nbformat": 4,
  "nbformat_minor": 0,
  "metadata": {
    "colab": {
      "provenance": [],
      "authorship_tag": "ABX9TyOc6gSFQCzIvJMnaGYzWjUP",
      "include_colab_link": true
    },
    "kernelspec": {
      "name": "python3",
      "display_name": "Python 3"
    },
    "language_info": {
      "name": "python"
    }
  },
  "cells": [
    {
      "cell_type": "markdown",
      "metadata": {
        "id": "view-in-github",
        "colab_type": "text"
      },
      "source": [
        "<a href=\"https://colab.research.google.com/github/kimberlyhead24/hello-world/blob/main/HW4.ipynb\" target=\"_parent\"><img src=\"https://colab.research.google.com/assets/colab-badge.svg\" alt=\"Open In Colab\"/></a>"
      ]
    },
    {
      "cell_type": "code",
      "execution_count": 9,
      "metadata": {
        "colab": {
          "base_uri": "https://localhost:8080/"
        },
        "id": "ctg19WOqihLP",
        "outputId": "11276667-a532-4702-f906-fca83490d9da"
      },
      "outputs": [
        {
          "output_type": "stream",
          "name": "stdout",
          "text": [
            "Enter length in centimeters: 35\n",
            "35 cm 13.8 inches\n"
          ]
        }
      ],
      "source": [
        "# Requesting a centimeter value from user and converting to inches\n",
        "cent = eval(input(\"Enter length in centimeters: \"))\n",
        "if cent < 0:\n",
        "  print(\"Invalid. Must be postiive number.\")\n",
        "# Error check if given a number less than 0\n",
        "else:\n",
        "  inches = cent / 2.54\n",
        "  print(f'{cent} cm {inches:.1f} inches')\n",
        ""
      ]
    },
    {
      "cell_type": "code",
      "source": [
        "# Calculateing what classification a student is:\n",
        "# freshman, sophomore, junior, or senior\n",
        "credits = eval(input(\"Enter number of credits: \"))\n",
        "if 0 <= credits <= 23:\n",
        "  print(\"Student is a freshman\")\n",
        "elif 24 <= credits <= 53:\n",
        "  print(\"Student is a sophomore\")\n",
        "elif 54 <= credits <= 83:\n",
        "  print(\"Student is a junior\")\n",
        "elif credits >= 84:\n",
        "  print(\"Student is a senior\")\n",
        "else:\n",
        "  print(\"Invalid. Enter a positive number of credits.\")\n",
        "# Error Handling Negative Number"
      ],
      "metadata": {
        "colab": {
          "base_uri": "https://localhost:8080/"
        },
        "id": "OczjU_1F8nlx",
        "outputId": "e1290366-a39e-4af7-d73c-05690c35bc94"
      },
      "execution_count": 19,
      "outputs": [
        {
          "output_type": "stream",
          "name": "stdout",
          "text": [
            "Enter number of credits: 86\n",
            "Student is a senior\n"
          ]
        }
      ]
    },
    {
      "cell_type": "code",
      "source": [
        "# calculating tier product cost based on the amount the user is buying\n",
        "amount = eval(input(\"Enter amount of items: \"))\n",
        "price = 0\n",
        "if amount < 10:\n",
        "  price = amount * 12\n",
        "elif 10 <= amount <= 99:\n",
        "  price = amount * 10\n",
        "elif amount >= 100:\n",
        "  price = amount * 7\n",
        "else:\n",
        " print('Invalid amount.')\n",
        "# Error Handling Negative number\n",
        "print(f'Total cost: ${price:.2f}')"
      ],
      "metadata": {
        "colab": {
          "base_uri": "https://localhost:8080/"
        },
        "id": "j0JVrf_X-fuM",
        "outputId": "fcf5dc90-fcbd-4dd9-ad0b-efe0d573837e"
      },
      "execution_count": 23,
      "outputs": [
        {
          "output_type": "stream",
          "name": "stdout",
          "text": [
            "Enter amount of items: 150\n",
            "Total cost: $1050.00\n"
          ]
        }
      ]
    },
    {
      "cell_type": "code",
      "source": [
        "# start with the rarest leap year and movee through to the most common to calculate if it is a leap year\n",
        "year = eval(input(\"Enter year: \"))\n",
        "if (year % 400 == 0): # When divisible by 400 it is a leap year no matter any other if statement\n",
        "  print(f'{year} is a leap year')\n",
        "elif (year % 100 == 0): # If not divisible by 400 but divisible by 100 then it is not a leap year\n",
        "  print(f'{year} is not a leap year')\n",
        "elif (year % 4 == 0): # If not divisible by 400 but by 4 it is a leap year\n",
        "  print(f'{year} is a leap year')\n",
        "else:\n",
        "  print(f'{year} is not a leap year')"
      ],
      "metadata": {
        "colab": {
          "base_uri": "https://localhost:8080/"
        },
        "id": "v8fAEEcS_9VV",
        "outputId": "d848a1f6-d9d3-4aa6-ad60-58806c8c429d"
      },
      "execution_count": 38,
      "outputs": [
        {
          "output_type": "stream",
          "name": "stdout",
          "text": [
            "Enter year: 1800\n",
            "1800 is not a leap year\n"
          ]
        }
      ]
    },
    {
      "cell_type": "code",
      "source": [
        " # Multiplication Game\n",
        "from random import randint\n",
        "count = 1 # set the first question to 1\n",
        "right = 0 # set the count of right answers to 0\n",
        "wrong = 0 # set the count of wrong answers to 1\n",
        "# Give 10 questions, use radint to randomize numbers, calculat the answer and compare to user's guess\n",
        "for i in range(10):\n",
        "  num1 = randint(1, 10)\n",
        "  num2 = randint(1, 10)\n",
        "  answer = num1 * num2\n",
        "  guess = eval(input(f'Question {count}: {num1} X {num2} = '))\n",
        "  if guess == answer:\n",
        "    print(f'Right.')\n",
        "    right += 1 # count for every right answer for scoring\n",
        "  else:\n",
        "    print(f'Wrong. The answer is {answer}')\n",
        "    wrong += 1 # count for every wrong answer for scoring\n",
        "  count += 1 # count the questions up 1 through every iteration\n",
        "print(f'You got {right} right and {wrong} wrong.') # Display score\n"
      ],
      "metadata": {
        "colab": {
          "base_uri": "https://localhost:8080/"
        },
        "id": "UBO0EcQBCGIT",
        "outputId": "a8da81ec-7f4d-4194-a486-a8c9af662bad"
      },
      "execution_count": 28,
      "outputs": [
        {
          "output_type": "stream",
          "name": "stdout",
          "text": [
            "Question 1: 6 X 2 = 12\n",
            "Right.\n",
            "Question 2: 7 X 1 = 7\n",
            "Right.\n",
            "Question 3: 6 X 9 = 40\n",
            "Wrong. The answer is 54\n",
            "Question 4: 2 X 5 = 10\n",
            "Right.\n",
            "Question 5: 2 X 7 = 14\n",
            "Right.\n",
            "Question 6: 9 X 2 = 18\n",
            "Right.\n",
            "Question 7: 10 X 9 = 90\n",
            "Right.\n",
            "Question 8: 5 X 7 = 30\n",
            "Wrong. The answer is 35\n",
            "Question 9: 3 X 10 = 30\n",
            "Right.\n",
            "Question 10: 7 X 8 = 12\n",
            "Wrong. The answer is 56\n",
            "You got 7 right and 3 wrong.\n"
          ]
        }
      ]
    }
  ]
}