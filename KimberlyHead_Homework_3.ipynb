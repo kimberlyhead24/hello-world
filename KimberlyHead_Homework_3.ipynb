{
  "nbformat": 4,
  "nbformat_minor": 0,
  "metadata": {
    "colab": {
      "provenance": [],
      "authorship_tag": "ABX9TyOMe4wkQ3GA7y3OZb3nID2R",
      "include_colab_link": true
    },
    "kernelspec": {
      "name": "python3",
      "display_name": "Python 3"
    },
    "language_info": {
      "name": "python"
    }
  },
  "cells": [
    {
      "cell_type": "markdown",
      "metadata": {
        "id": "view-in-github",
        "colab_type": "text"
      },
      "source": [
        "<a href=\"https://colab.research.google.com/github/kimberlyhead24/hello-world/blob/main/KimberlyHead_Homework_3.ipynb\" target=\"_parent\"><img src=\"https://colab.research.google.com/assets/colab-badge.svg\" alt=\"Open In Colab\"/></a>"
      ]
    },
    {
      "cell_type": "code",
      "execution_count": 4,
      "metadata": {
        "id": "ec2EV0oIyiDn",
        "colab": {
          "base_uri": "https://localhost:8080/"
        },
        "outputId": "2f605ea2-128a-431a-ef8a-8da02aa48da5"
      },
      "outputs": [
        {
          "output_type": "stream",
          "name": "stdout",
          "text": [
            "Enter a weight in kilograms: 114\n",
            "114 kilograms is equal to 251.3 pounds.\n"
          ]
        }
      ],
      "source": [
        "# Using format() to display pounds with one decimal point\n",
        "\n",
        "# Gather the weight in kilograms from the user\n",
        "kilograms = eval(input(\"Enter a weight in kilograms: \"))\n",
        "\n",
        "# kilograms * 2.2046 converts to pounds\n",
        "pounds = kilograms * 2.2046\n",
        "\n",
        "# The format() method replaces {} within a string with variable values.\n",
        "# Inside the braces, :.*f tells Python to format the number to specific # of decimals.\n",
        "# The * should be replaced by the desired decimal place count\n",
        "# Example usage for the end of the string: format(variable1, variable2)\n",
        "print(\"{} kilograms is equal to {:.1f} pounds.\".format(kilograms, pounds))\n"
      ]
    },
    {
      "cell_type": "code",
      "source": [
        "# A program that takes a list of 10 prices and `10 products,\n",
        "# applies 11% discount to each right-justified and nice format\n",
        "\n",
        "# Create a product list and price list and discount variable\n",
        "products = ['Hat', 'Scarf', 'Coat', 'Sweater', 'Socks',\n",
        "            'Shirt', 'Boxers', 'Shoes', 'Bracelet', 'Necklace']\n",
        "prices = [2.99, 3.25, 55.99, 34.65, 3.35,\n",
        "          15.85, 10.99, 85.66, 64.31, 150.99]\n",
        "discount = .11\n",
        "\n",
        "# Go through the list of ten prices and calculate the discount\n",
        "# Display using format() left align product 8 spaces and right-aligned\n",
        "# 6 spaces and two decimal points\n",
        "for i in range(len(prices)):\n",
        "    discounted_prices = prices[i] * (1 - discount)\n",
        "    print('{:<8}  $ {:>6.2f}'.format(products[i], discounted_prices))\n",
        "\n",
        "\n"
      ],
      "metadata": {
        "colab": {
          "base_uri": "https://localhost:8080/"
        },
        "id": "UIVIbP3n_2Q6",
        "outputId": "9e49e492-1706-4f0c-caf4-dfa623bdb78c"
      },
      "execution_count": 21,
      "outputs": [
        {
          "output_type": "stream",
          "name": "stdout",
          "text": [
            "Hat       $   2.66\n",
            "Scarf     $   2.89\n",
            "Coat      $  49.83\n",
            "Sweater   $  30.84\n",
            "Socks     $   2.98\n",
            "Shirt     $  14.11\n",
            "Boxers    $   9.78\n",
            "Shoes     $  76.24\n",
            "Bracelet  $  57.24\n",
            "Necklace  $ 134.38\n"
          ]
        }
      ]
    },
    {
      "cell_type": "code",
      "source": [
        "# Program to determine how many of the numbers between 1 and 10000\n",
        "# contain the digit 3 by converting the number to a string and counting\n",
        "# if 3 is in the string\n",
        "count = 0\n",
        "for i in range(1, 10001):\n",
        "    if '3' in str(i):\n",
        "        count += 1\n",
        "print(count)"
      ],
      "metadata": {
        "colab": {
          "base_uri": "https://localhost:8080/"
        },
        "id": "tjg-FQLx_2kj",
        "outputId": "d350954a-00d0-4a1d-e14d-81991a7da646"
      },
      "execution_count": 24,
      "outputs": [
        {
          "output_type": "stream",
          "name": "stdout",
          "text": [
            "3439\n"
          ]
        }
      ]
    }
  ]
}