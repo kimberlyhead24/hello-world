{
  "nbformat": 4,
  "nbformat_minor": 0,
  "metadata": {
    "colab": {
      "provenance": [],
      "authorship_tag": "ABX9TyNlouSVs9dQ/272T5Rs/bY9",
      "include_colab_link": true
    },
    "kernelspec": {
      "name": "python3",
      "display_name": "Python 3"
    },
    "language_info": {
      "name": "python"
    }
  },
  "cells": [
    {
      "cell_type": "markdown",
      "metadata": {
        "id": "view-in-github",
        "colab_type": "text"
      },
      "source": [
        "<a href=\"https://colab.research.google.com/github/kimberlyhead24/hello-world/blob/main/KimberlyHead_Homework_3.ipynb\" target=\"_parent\"><img src=\"https://colab.research.google.com/assets/colab-badge.svg\" alt=\"Open In Colab\"/></a>"
      ]
    },
    {
      "cell_type": "code",
      "execution_count": null,
      "metadata": {
        "colab": {
          "base_uri": "https://localhost:8080/"
        },
        "id": "eg3ME8hsx0SN",
        "outputId": "05d8323c-4c77-4df7-b54a-676ddce57cc8"
      },
      "outputs": [
        {
          "output_type": "stream",
          "name": "stdout",
          "text": [
            "1\n",
            "2\n",
            "3\n",
            "4\n",
            "5\n",
            "6\n",
            "7\n",
            "8\n",
            "9\n",
            "10\n",
            "11\n",
            "12\n",
            "13\n",
            "14\n",
            "15\n",
            "16\n",
            "17\n",
            "18\n",
            "19\n",
            "20\n",
            "21\n",
            "22\n",
            "23\n",
            "24\n",
            "25\n",
            "26\n",
            "27\n",
            "28\n",
            "29\n",
            "30\n",
            "31\n",
            "32\n",
            "33\n",
            "34\n",
            "35\n",
            "36\n",
            "37\n",
            "38\n",
            "39\n",
            "40\n",
            "41\n",
            "42\n",
            "43\n",
            "44\n",
            "45\n",
            "46\n",
            "47\n",
            "48\n",
            "49\n",
            "50\n"
          ]
        }
      ],
      "source": [
        "# Creating a while loop to perform the same as for i in range(1, 51): print(i)\n",
        "\n",
        "# set the i to 1 to give it a starting point or you get NameError\n",
        "i=1\n",
        "while i < 51:\n",
        "  print(i)\n",
        "  i += 1"
      ]
    },
    {
      "cell_type": "code",
      "source": [
        "# Getting the weight of the user in kilograms and converting to pounds\n",
        "# Using the while loop we can keep asking the user what weight if it is an invalid weight\n",
        "\n",
        "weight = eval(input(\"Enter weight in pounds: \")) # Ask initial weight question\n",
        "while weight < 0:  # Jump into while loop if invalid and less than zero\n",
        "    print(\"Invalid weight\")\n",
        "    weight = eval(input(\"Enter weight in pounds: \"))   # repeat question\n",
        "else:     # If input is valid calculate pounds and display\n",
        "    pounds = weight * 0.454 # Calculation for conversion\n",
        "print(\"Weight in kilograms: \", pounds)"
      ],
      "metadata": {
        "id": "XBhwbHyAy67A",
        "colab": {
          "base_uri": "https://localhost:8080/"
        },
        "outputId": "41795c53-229e-4edf-e311-b3f099eaaf3f"
      },
      "execution_count": 3,
      "outputs": [
        {
          "output_type": "stream",
          "name": "stdout",
          "text": [
            "Enter weight in pounds: -25\n",
            "Invalid weight\n",
            "Enter weight in pounds: 0\n",
            "Weight in kilograms:  0.0\n"
          ]
        }
      ]
    },
    {
      "cell_type": "code",
      "source": [
        "# Using while loop to allow the user to enter as many test scores as they want\n",
        "# and they break out of the cycle by inserting a negative number\n",
        "\n",
        "# Start empty list to append to\n",
        "test_scores = []\n",
        "score = 0           # setting another list to zero to initiate the append with the while loop\n",
        "while score >= 0:\n",
        "    score = eval(input(\"Enter test score: \"))\n",
        "    if score >= 0:   # set condition for positive number to keep asking score\n",
        "        test_scores.append(score) # append score to test_score\n",
        "\n",
        "# Calculating how many A's using a list of A's from test scores and counting with length\n",
        "A_scores = [score for score in test_scores if score >= 90 and score <= 100]\n",
        "print(len(A_scores))\n",
        "print(sum(test_scores)/len(test_scores))   # sum/length for average with lists\n",
        ""
      ],
      "metadata": {
        "colab": {
          "base_uri": "https://localhost:8080/"
        },
        "id": "UAPQheHPEXu4",
        "outputId": "fe42de2b-b726-457a-f34d-c226e86387e3"
      },
      "execution_count": 9,
      "outputs": [
        {
          "output_type": "stream",
          "name": "stdout",
          "text": [
            "Enter test score: 76\n",
            "Enter test score: 89\n",
            "Enter test score: 90\n",
            "Enter test score: 88\n",
            "Enter test score: 99\n",
            "Enter test score: 93\n",
            "Enter test score: 88\n",
            "Enter test score: 67\n",
            "Enter test score: 87\n",
            "Enter test score: 99\n",
            "Enter test score: -1\n",
            "4\n",
            "87.6\n"
          ]
        }
      ]
    },
    {
      "cell_type": "code",
      "source": [
        "# Changing first non-zero entry to 1 or printing that there are no non-zeros in the list\n",
        "\n",
        "binary_list = [eval(input(\"Enter number only 1s or 0s seven times: \")) for i in range(7)]\n",
        "i = 0\n",
        "found = False    # If we wanted to change all non-zeros then we would not need this\n",
        "\n",
        "# Iterate through the list in search of first non-zero number\n",
        "while i < len(binary_list):\n",
        "  if binary_list[i] == 1:\n",
        "    binary_list[i] = 0     # Change the number 1 to 0\n",
        "    print('List after changing first 1 to 0:', binary_list)\n",
        "    found = True    # Marking found true breaks out of the while loop and stops with changing 1 number\n",
        "    break\n",
        "  i += 1\n",
        "else:\n",
        "  print('There are no non-zero numbers')    # No one's were found if this executes\n",
        "\n"
      ],
      "metadata": {
        "colab": {
          "base_uri": "https://localhost:8080/"
        },
        "id": "EsotYCdwIoWF",
        "outputId": "e7215c67-5913-4dc9-8418-047918b3b8c5"
      },
      "execution_count": 13,
      "outputs": [
        {
          "output_type": "stream",
          "name": "stdout",
          "text": [
            "Enter number only 1s or 0s seven times: 0\n",
            "Enter number only 1s or 0s seven times: 0\n",
            "Enter number only 1s or 0s seven times: 0\n",
            "Enter number only 1s or 0s seven times: 0\n",
            "Enter number only 1s or 0s seven times: 0\n",
            "Enter number only 1s or 0s seven times: 0\n",
            "Enter number only 1s or 0s seven times: 0\n",
            "There are no non-zero numbers\n"
          ]
        }
      ]
    }
  ]
}