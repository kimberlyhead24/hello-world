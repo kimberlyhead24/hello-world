{
  "nbformat": 4,
  "nbformat_minor": 0,
  "metadata": {
    "colab": {
      "provenance": [],
      "authorship_tag": "ABX9TyPaO/Wopsi3JvdGtFX9Pcur",
      "include_colab_link": true
    },
    "kernelspec": {
      "name": "python3",
      "display_name": "Python 3"
    },
    "language_info": {
      "name": "python"
    }
  },
  "cells": [
    {
      "cell_type": "markdown",
      "metadata": {
        "id": "view-in-github",
        "colab_type": "text"
      },
      "source": [
        "<a href=\"https://colab.research.google.com/github/kimberlyhead24/hello-world/blob/main/KimberlyHeadLP7.ipynb\" target=\"_parent\"><img src=\"https://colab.research.google.com/assets/colab-badge.svg\" alt=\"Open In Colab\"/></a>"
      ]
    },
    {
      "cell_type": "code",
      "execution_count": 3,
      "metadata": {
        "colab": {
          "base_uri": "https://localhost:8080/"
        },
        "id": "KQ29Xa-zOWhs",
        "outputId": "624ce34b-6036-4a7f-9e96-b48fe4f1953b"
      },
      "outputs": [
        {
          "output_type": "stream",
          "name": "stdout",
          "text": [
            "Enter a word: supercalifragilisticexpialidocious\n",
            "34\n"
          ]
        }
      ],
      "source": [
        "# Word Count\n",
        "word = input('Enter a word: ')\n",
        "print(len(word))"
      ]
    },
    {
      "cell_type": "code",
      "source": [
        "# Counting parenthesis to make sure the opened ones are closed\n",
        "formula = input(\"Enter a formula: \")\n",
        "open_paren = formula.count('(')\n",
        "close_paren = formula.count(')')\n",
        "if open_paren == close_paren:\n",
        "    print(\"Same number parentheses.\")\n",
        "else:\n",
        "    print(\"Does NOT have the same number parentheses.\")\n"
      ],
      "metadata": {
        "colab": {
          "base_uri": "https://localhost:8080/"
        },
        "id": "D8JZByDPQDNx",
        "outputId": "687a7e2b-b846-4e4d-9973-b8221610f1b9"
      },
      "execution_count": 5,
      "outputs": [
        {
          "output_type": "stream",
          "name": "stdout",
          "text": [
            "Enter a formula: (3+(5*25))\n",
            "Same number parentheses.\n"
          ]
        }
      ]
    }
  ]
}