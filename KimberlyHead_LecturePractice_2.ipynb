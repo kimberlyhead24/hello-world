{
  "nbformat": 4,
  "nbformat_minor": 0,
  "metadata": {
    "colab": {
      "provenance": [],
      "authorship_tag": "ABX9TyNZNGfH2MpSS1oJOrBAvYfA",
      "include_colab_link": true
    },
    "kernelspec": {
      "name": "python3",
      "display_name": "Python 3"
    },
    "language_info": {
      "name": "python"
    }
  },
  "cells": [
    {
      "cell_type": "markdown",
      "metadata": {
        "id": "view-in-github",
        "colab_type": "text"
      },
      "source": [
        "<a href=\"https://colab.research.google.com/github/kimberlyhead24/hello-world/blob/main/KimberlyHead_LecturePractice_2.ipynb\" target=\"_parent\"><img src=\"https://colab.research.google.com/assets/colab-badge.svg\" alt=\"Open In Colab\"/></a>"
      ]
    },
    {
      "cell_type": "code",
      "execution_count": null,
      "metadata": {
        "id": "YY_ABDSqja6l",
        "colab": {
          "base_uri": "https://localhost:8080/"
        },
        "outputId": "3d3ac849-157a-41f2-bbc1-604826015b03"
      },
      "outputs": [
        {
          "output_type": "stream",
          "name": "stdout",
          "text": [
            "Enter some text: Hello how are you, I am a bear. The bear loves the chair.\n",
            " There are 3 articles in the text.\n"
          ]
        }
      ],
      "source": [
        "# Creating a program the gives the user an ouput of how many articles are\n",
        "# in the text they input. Articles are 'a', 'an', or 'the'\n",
        "\n",
        "text = input('Enter some text: ')\n",
        "\n",
        "words = text.split()          # I used split so the user could enter w/o list format\n",
        "\n",
        "words = [word.lower() for word in words]  # I had some issues with capitalization so us lower()\n",
        "\n",
        "count = 0           # Set a count variable\n",
        "for word in words:\n",
        "  if word == 'a' or word == 'an' or word == 'the':\n",
        "    count += 1\n",
        "print(f' There are {count} articles in the text.')"
      ]
    },
    {
      "cell_type": "code",
      "source": [
        "# A program that gives the results of the lottery by randomly picking\n",
        "# numbers between 1 and 48 for 6 drawings\n",
        "from random import randint\n",
        "Lottery = []\n",
        "for i in range(6):\n",
        "    Lottery.append(randint(1, 48))\n",
        "print(Lottery)"
      ],
      "metadata": {
        "colab": {
          "base_uri": "https://localhost:8080/"
        },
        "id": "0dsuuTokT8-o",
        "outputId": "63c0d36b-5103-4b8b-dd88-865ead57f1f1"
      },
      "execution_count": null,
      "outputs": [
        {
          "output_type": "stream",
          "name": "stdout",
          "text": [
            "[15, 14, 30, 21, 39, 21]\n"
          ]
        }
      ]
    },
    {
      "cell_type": "code",
      "source": [
        "# Quiz game: 10 questions, give each player 4 of the randomly selected\n",
        "# questions and output right or wrong for each, then give total score\n",
        "\n",
        "# Sample from random will randomly pick however many list items you want\n",
        "from random import sample\n",
        "\n",
        "# List of questions\n",
        "questions = [\n",
        "    \"What keyword is used to define a function in Python?\",\n",
        "    \"What is the symbol for comments in Python?\",\n",
        "    \"Which data type is used to store text?\",\n",
        "    \"Which method is used to add an item to a list?\",\n",
        "    \"What type is returned by input()?\",\n",
        "    \"What is the result of 3 + 4?\",\n",
        "    \"Which type has only true or false?\",\n",
        "    \"Which keyword is used for loops in Python?\",\n",
        "    \"What is the output type of range()?\",\n",
        "    \"What character is used to separate values in a dictionary?\"\n",
        "]\n",
        "\n",
        "# List of answers indexed to match the index of the respective questions indexed\n",
        "answers = [\n",
        "    \"def\",\n",
        "    \"hashtag\",\n",
        "    \"string\",\n",
        "    \"append\",\n",
        "    \"string\",\n",
        "    \"seven\",\n",
        "    \"boolean\",\n",
        "    \"for\",\n",
        "    \"iterable\",\n",
        "    \"colon\"\n",
        "]\n",
        "picked_questions = sample(questions, 4)\n",
        "\n",
        "# set the correct answers score and wrong answers to score to zero\n",
        "correct = 0\n",
        "wrong = 0\n",
        "\n",
        "# display the questions that were randomly selected one by one and\n",
        "# request an answer from the user\n",
        "for q in picked_questions:\n",
        "    print(q)\n",
        "    answer = input('Answer: ')\n",
        "\n",
        "    # Converting to lowercase just in case the user uses any capitalization\n",
        "    answer = answer.lower()\n",
        "\n",
        "    # Creating index variable to identify if question has multiple ways\n",
        "    # of displaying answer for special block below\n",
        "    index = questions.index(q)\n",
        "\n",
        "    # Since the answer to a couple questions is a number or symbol\n",
        "    # I make a special block to handle both cases\n",
        "    if index == 1:\n",
        "        if answer in [\"hashtag\", \"#\"]:  # special case\n",
        "            print('Correct')\n",
        "            correct += 1\n",
        "        else:\n",
        "            print('Wrong')\n",
        "            wrong += 1\n",
        "    elif index == 5:\n",
        "        if answer in [\"seven\", \"7\"]:     # special case\n",
        "            print('Correct')\n",
        "            correct += 1\n",
        "        else:\n",
        "            print('Wrong')\n",
        "            wrong += 1\n",
        "    elif index == 9:\n",
        "        if answer in [\"colon\", \":\"]:     # special case\n",
        "            print('Correct')\n",
        "            correct += 1\n",
        "        else:\n",
        "            print('Wrong')\n",
        "            wrong += 1\n",
        "    else:\n",
        "        if answer == answers[index]:\n",
        "            print('Correct')    # total up the rest of the correct answers\n",
        "            correct += 1\n",
        "        else:\n",
        "            print('Wrong')\n",
        "            wrong += 1          # total up the rest of the wrong answers\n",
        "\n",
        "print(\"Total correct:\", correct)\n",
        "print(\"Total wrong:\", wrong)"
      ],
      "metadata": {
        "id": "qT8ZUOqzU9uJ",
        "colab": {
          "base_uri": "https://localhost:8080/"
        },
        "outputId": "93c734a0-0c5b-491c-d0ed-7f57da81b7a0"
      },
      "execution_count": 11,
      "outputs": [
        {
          "output_type": "stream",
          "name": "stdout",
          "text": [
            "What character is used to separate values in a dictionary?\n",
            "Answer: :\n",
            "Correct\n",
            "What is the result of 3 + 4?\n",
            "Answer: 7\n",
            "Correct\n",
            "What is the output type of range()?\n",
            "Answer: iteration\n",
            "Wrong\n",
            "Which method is used to add an item to a list?\n",
            "Answer: Append\n",
            "Correct\n",
            "Total correct: 3\n",
            "Total wrong: 1\n"
          ]
        }
      ]
    },
    {
      "cell_type": "code",
      "source": [
        "# As per my normal I want to make this program as good of a user experience\n",
        "# as I can. The goal is to have a user upload a post, the assignment stakes\n",
        "# to make a list of strings. The post will be the list of strings and then we\n",
        "# will display it with the 's' word's first character removed, provide the length of strings\n",
        "# that start with an 's', and then display only larger than 3 character 's' words\n",
        "\n",
        "\n",
        "from string import punctuation        # import punctuation to remove punctuation\n",
        "post = input(\"Enter a string: \")\n",
        "for c in punctuation:\n",
        "    post = post.replace(c, '')        # replace punctuation with whitespace\n",
        "\n",
        "L = [word for word in post.lower().split()]    # create list of split lowercase words\n",
        "\n",
        "# Create a list of just s words for the next displays that need only 's' words\n",
        "s = [word for word in L if word[0] == 's']\n",
        "\n",
        "# Create s_removed to display the first character 's' from the 's' words\n",
        "s_removed = [word[1:] for word in s]\n",
        "print(s_removed)\n",
        "\n",
        "# Find how many s words there are using len()\n",
        "length = [len(word) for word in s]\n",
        "print(length)\n",
        "\n",
        "# Display only the s words that are 3 characters or more\n",
        "bigger_s = [word for word in s if len(word) > 2]\n",
        "print(bigger_s)\n",
        "\n"
      ],
      "metadata": {
        "colab": {
          "base_uri": "https://localhost:8080/"
        },
        "id": "2i5U-eBtOyJb",
        "outputId": "b96e2748-29b3-4c13-c4b0-d160b4056f1c"
      },
      "execution_count": 1,
      "outputs": [
        {
          "output_type": "stream",
          "name": "stdout",
          "text": [
            "Enter a string: Had such a super day! So much sunshine, snacks, and smiles with friends. Swam in the pool, sang silly songs, and shared stories. So blessed. Sx, sm, see, star. #summerfun #stayhappy\n",
            "['uch', 'uper', 'o', 'unshine', 'nacks', 'miles', 'wam', 'ang', 'illy', 'ongs', 'hared', 'tories', 'o', 'x', 'm', 'ee', 'tar', 'ummerfun', 'tayhappy']\n",
            "[4, 5, 2, 8, 6, 6, 4, 4, 5, 5, 6, 7, 2, 2, 2, 3, 4, 9, 9]\n",
            "['such', 'super', 'sunshine', 'snacks', 'smiles', 'swam', 'sang', 'silly', 'songs', 'shared', 'stories', 'see', 'star', 'summerfun', 'stayhappy']\n"
          ]
        }
      ]
    },
    {
      "cell_type": "code",
      "source": [
        "# Creating a two-dimensional list of numbers 1 to 100 in a 10 by 10\n",
        "from random import randint\n",
        "\n",
        "# List comprehension creating the numbers\n",
        "L = [[randint(1,100) for x in range(10)]for y in range(10)]\n",
        "\n",
        "# Display it in the 10 by 10 form\n",
        "for row in L:\n",
        "    print(row)\n",
        "\n",
        "# use index [2] for the 3rd row and find the largest number using max()\n",
        "row3 = L[2]\n",
        "max_num3= max(row3)\n",
        "print('Largest value of 3rd row:')\n",
        "print(max_num3)\n",
        "\n",
        "# Extract the 5th index of each row which would be column 6\n",
        "# then use min() to find the smallest number in that column\n",
        "col6 = [row[5] for row in L]\n",
        "small_num6 = min(col6)\n",
        "print('Smallest value of 6th column:')\n",
        "print(small_num6)\n",
        "\n",
        ""
      ],
      "metadata": {
        "id": "j5P2hjtWUbbK",
        "colab": {
          "base_uri": "https://localhost:8080/"
        },
        "outputId": "770fa0b9-e0db-44ff-89d7-ba4e9c599088"
      },
      "execution_count": 2,
      "outputs": [
        {
          "output_type": "stream",
          "name": "stdout",
          "text": [
            "[41, 46, 44, 33, 15, 7, 67, 83, 99, 10]\n",
            "[40, 15, 7, 66, 40, 94, 62, 29, 27, 43]\n",
            "[62, 55, 64, 57, 87, 25, 8, 49, 63, 2]\n",
            "[98, 3, 55, 44, 72, 85, 50, 25, 50, 63]\n",
            "[35, 37, 50, 99, 84, 16, 84, 12, 33, 56]\n",
            "[20, 1, 11, 90, 3, 28, 85, 61, 62, 80]\n",
            "[25, 95, 58, 70, 43, 27, 11, 88, 78, 16]\n",
            "[30, 41, 76, 17, 15, 26, 79, 51, 5, 77]\n",
            "[51, 47, 40, 82, 10, 23, 25, 78, 93, 9]\n",
            "[30, 30, 66, 68, 66, 70, 16, 73, 50, 34]\n",
            "Largest value of 3rd row:\n",
            "87\n",
            "Smallest value of 6th column:\n",
            "7\n"
          ]
        }
      ]
    },
    {
      "cell_type": "code",
      "source": [
        "# Here I looked up the bold ANSI and wanted to give the user and even better\n",
        "# experience by bolding the smallest number in column 6 and the largest number in row 3\n",
        "BOLD = '\\033[1m'\n",
        "END = '\\033[0m'\n",
        "\n",
        "row3 = L[2]\n",
        "max_num3 = max(row3)\n",
        "col6 = [row[5] for row in L]\n",
        "small_num6 = min(col6)\n",
        "\n",
        "row_idx = 0\n",
        "for row in L:\n",
        "    col_idx = 0\n",
        "    line = []\n",
        "    for x in row:\n",
        "        # Bold if it's the largest in row 3, or the smallest in column 6\n",
        "        if (row_idx == 2 and x == max_num3) or (col_idx == 5 and x == small_num6):\n",
        "            line.append(f\"{BOLD}{str(x).rjust(3)}{END}\")     # rjust(3) makes nice formatting\n",
        "        else:\n",
        "            line.append(str(x).rjust(3))\n",
        "        col_idx += 1\n",
        "    print(' '.join(line))\n",
        "    row_idx += 1\n"
      ],
      "metadata": {
        "colab": {
          "base_uri": "https://localhost:8080/"
        },
        "id": "biuTR048SsZ5",
        "outputId": "c130ff06-a01f-404f-e4c1-833bf5010a6e"
      },
      "execution_count": 4,
      "outputs": [
        {
          "output_type": "stream",
          "name": "stdout",
          "text": [
            " 41  46  44  33  15 \u001b[1m  7\u001b[0m  67  83  99  10\n",
            " 40  15   7  66  40  94  62  29  27  43\n",
            " 62  55  64  57 \u001b[1m 87\u001b[0m  25   8  49  63   2\n",
            " 98   3  55  44  72  85  50  25  50  63\n",
            " 35  37  50  99  84  16  84  12  33  56\n",
            " 20   1  11  90   3  28  85  61  62  80\n",
            " 25  95  58  70  43  27  11  88  78  16\n",
            " 30  41  76  17  15  26  79  51   5  77\n",
            " 51  47  40  82  10  23  25  78  93   9\n",
            " 30  30  66  68  66  70  16  73  50  34\n"
          ]
        }
      ]
    }
  ]
}