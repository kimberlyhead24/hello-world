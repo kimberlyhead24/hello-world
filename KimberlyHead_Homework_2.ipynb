{
  "nbformat": 4,
  "nbformat_minor": 0,
  "metadata": {
    "colab": {
      "provenance": [],
      "authorship_tag": "ABX9TyO7nBVKbTeJ8wiTlNAL9mOh",
      "include_colab_link": true
    },
    "kernelspec": {
      "name": "python3",
      "display_name": "Python 3"
    },
    "language_info": {
      "name": "python"
    }
  },
  "cells": [
    {
      "cell_type": "markdown",
      "metadata": {
        "id": "view-in-github",
        "colab_type": "text"
      },
      "source": [
        "<a href=\"https://colab.research.google.com/github/kimberlyhead24/hello-world/blob/main/KimberlyHead_Homework_2.ipynb\" target=\"_parent\"><img src=\"https://colab.research.google.com/assets/colab-badge.svg\" alt=\"Open In Colab\"/></a>"
      ]
    },
    {
      "cell_type": "code",
      "execution_count": 27,
      "metadata": {
        "colab": {
          "base_uri": "https://localhost:8080/"
        },
        "id": "kDU79j9gfNkk",
        "outputId": "20386cfd-d053-4be3-925a-c8c65c47db84"
      },
      "outputs": [
        {
          "output_type": "stream",
          "name": "stdout",
          "text": [
            "Enter five numbers: 33 40 56 5 6\n",
            "33+40+56+5+6\n"
          ]
        }
      ],
      "source": [
        "# Gathering 5 numbers from the user as a list comprehension\n",
        "# then joining the numbers with a plus symbol\n",
        "\n",
        "# We have to use split or it will take every character and will\n",
        "# not work appropriately for multiple digit numbers ot whitespace\n",
        "list = [x for x in input('Enter five numbers: ').split()]\n",
        "\n",
        "# join function is one of the easiest ways to combine the list with '+'\n",
        "print('+'.join(list))"
      ]
    },
    {
      "cell_type": "code",
      "source": [
        "# Asking the user for a sentence and then displaying the 3rd word using index\n",
        "sentence = [x for x in input('Enter a sentence: ').split()]\n",
        "print(sentence[2])"
      ],
      "metadata": {
        "colab": {
          "base_uri": "https://localhost:8080/"
        },
        "id": "GNrxSYvEldEs",
        "outputId": "2f360b08-51b1-46ec-fa20-197d61be99ca"
      },
      "execution_count": 15,
      "outputs": [
        {
          "output_type": "stream",
          "name": "stdout",
          "text": [
            "Enter a sentence: Hello how are you doing today?\n",
            "are\n"
          ]
        }
      ]
    },
    {
      "cell_type": "code",
      "source": [
        "# Quote of the Day:\n",
        "# Create the quote data by putting them in a list\n",
        "from random import choice\n",
        "quotes = [\n",
        "    \"The only way to do great work is to love what you do.\",\n",
        "    \"Success is not final, failure is not fatal.\",\n",
        "    \"Dream big and dare to fail.\",\n",
        "    \"Happiness depends upon ourselves.\",\n",
        "    \"Be yourself; everyone else is already taken.\",\n",
        "    \"Doubt kills more dreams than failure ever will.\",\n",
        "    \"Every moment is a fresh beginning.\",\n",
        "    \"Believe you can and you’re halfway there.\",\n",
        "    \"Don’t wait. The time will never be just right.\",\n",
        "    \"What we think, we become.\",\n",
        "    \"Don't allow your emotions to be like a leaf being tossed around by the wind. \"\n",
        "]\n",
        "\n",
        "# Use choice from random to pick the quote for that day\n",
        "print(choice(quotes))"
      ],
      "metadata": {
        "colab": {
          "base_uri": "https://localhost:8080/"
        },
        "id": "J9EuxEsUl2HR",
        "outputId": "20f889a4-f969-4337-cdf1-9d31f9dc19d5"
      },
      "execution_count": 24,
      "outputs": [
        {
          "output_type": "stream",
          "name": "stdout",
          "text": [
            "Don’t wait. The time will never be just right.\n"
          ]
        }
      ]
    },
    {
      "cell_type": "code",
      "source": [
        "# i keeps the amount of rounds we will do and j keeps the amount of\n",
        "# incrementing zeros, we set it to 11 because the first one has no zero\n",
        "# for it to end at 10 zeros we need 11 cycles, the program tells it to\n",
        "# make a list appending 1 then 0 times the amount that has incremented\n",
        "# The trick is you do have to add another 1 at the end to make it end at 1\n",
        "\n",
        "combination = [i for j in range(11) for i in [1] + [0]*j] + [1]\n",
        "print(combination)\n",
        "\n",
        "\n",
        "\n"
      ],
      "metadata": {
        "colab": {
          "base_uri": "https://localhost:8080/"
        },
        "id": "uBBKyfBg-ttm",
        "outputId": "0c071ce8-6158-477e-c1a4-488e0aa00267"
      },
      "execution_count": 92,
      "outputs": [
        {
          "output_type": "stream",
          "name": "stdout",
          "text": [
            "[1, 1, 0, 1, 0, 0, 1, 0, 0, 0, 1, 0, 0, 0, 0, 1, 0, 0, 0, 0, 0, 1, 0, 0, 0, 0, 0, 0, 1, 0, 0, 0, 0, 0, 0, 0, 1, 0, 0, 0, 0, 0, 0, 0, 0, 1, 0, 0, 0, 0, 0, 0, 0, 0, 0, 1, 0, 0, 0, 0, 0, 0, 0, 0, 0, 0, 1]\n"
          ]
        }
      ]
    },
    {
      "cell_type": "code",
      "source": [
        "# A program that takes the list and creates a new list of the gaps between\n",
        "# consecutive numbers\n",
        "\n",
        "L=[2,3,5,7,11,13,17,19,23,29,31,37,41,43,47]\n",
        "\n",
        "# L[i+1] increments the index we are looking at subtracting it from the\n",
        "# previous index L[i] and then we are specifying that i is through the entire list\n",
        "gaps = [L[i+1] - L[i] for i in range(len(L) - 1)]\n",
        "print(gaps)\n",
        "\n",
        "# Use max() function to find the biggest gap\n",
        "print(f'Maximum gap: {max(gaps)}')\n",
        "\n",
        "# To find the percentage of 2 gaps we count up all the 2's in the list\n",
        "# then divide by the length of how many gaps there were and * 100 to get\n",
        "# percentage and then specify two decimal places as formatting\n",
        "print(f'Percentage of gaps with 2: {gaps.count(2)/len(gaps)*100:.2f} %')\n",
        "\n"
      ],
      "metadata": {
        "colab": {
          "base_uri": "https://localhost:8080/"
        },
        "id": "AHkAw7RfDS15",
        "outputId": "e2e8c3c6-ec21-4bb0-bd00-1d338be2b183"
      },
      "execution_count": 109,
      "outputs": [
        {
          "output_type": "stream",
          "name": "stdout",
          "text": [
            "[1, 2, 2, 4, 2, 4, 2, 4, 6, 2, 6, 4, 2, 4]\n",
            "Maximum gap: 6\n",
            "Percentage of gaps with 2: 42.86 %\n"
          ]
        }
      ]
    },
    {
      "cell_type": "code",
      "source": [
        "# A program that finds the average in all of the entries in a 4 X 4 matrix\n",
        "M = [[34, 36, 89, 22],\n",
        "     [66, 5, 44, 4],\n",
        "     [12, 55, 101, 1],\n",
        "     [1, 26, 74, 5]]\n",
        "\n",
        "\n",
        "# flatten the list\n",
        "matrix = [j for row in M for j in row]\n",
        "\n",
        "# normal average calculation\n",
        "average = sum(matrix)/len(matrix)\n",
        "print(f'Average: {average:.0f}')\n"
      ],
      "metadata": {
        "colab": {
          "base_uri": "https://localhost:8080/"
        },
        "id": "ZbJGPmkCG8kD",
        "outputId": "27306251-2bf0-4058-cec4-4bdb6c266f5d"
      },
      "execution_count": 14,
      "outputs": [
        {
          "output_type": "stream",
          "name": "stdout",
          "text": [
            "Average: 36\n"
          ]
        }
      ]
    }
  ]
}