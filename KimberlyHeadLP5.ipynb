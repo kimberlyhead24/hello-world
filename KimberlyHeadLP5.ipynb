{
  "nbformat": 4,
  "nbformat_minor": 0,
  "metadata": {
    "colab": {
      "provenance": [],
      "authorship_tag": "ABX9TyMYZ5iuGIZEh8CglJkxmful",
      "include_colab_link": true
    },
    "kernelspec": {
      "name": "python3",
      "display_name": "Python 3"
    },
    "language_info": {
      "name": "python"
    }
  },
  "cells": [
    {
      "cell_type": "markdown",
      "metadata": {
        "id": "view-in-github",
        "colab_type": "text"
      },
      "source": [
        "<a href=\"https://colab.research.google.com/github/kimberlyhead24/hello-world/blob/main/KimberlyHeadLP5.ipynb\" target=\"_parent\"><img src=\"https://colab.research.google.com/assets/colab-badge.svg\" alt=\"Open In Colab\"/></a>"
      ]
    },
    {
      "cell_type": "code",
      "execution_count": 10,
      "metadata": {
        "colab": {
          "base_uri": "https://localhost:8080/"
        },
        "id": "nrAC3p9SeDKv",
        "outputId": "dc0eeb83-dfa1-4acc-81a7-aaba49a937dd"
      },
      "outputs": [
        {
          "output_type": "stream",
          "name": "stdout",
          "text": [
            "20\n"
          ]
        }
      ],
      "source": [
        "# Counts how many squares from 1 to 100 end in 1\n",
        "count=0  # set count to 0\n",
        "for i in range(1,101):  #iterates through the numbers\n",
        " if (i**2)%10==1:     # squares the numbers and checks if they end in 1\n",
        "  count=count+1  # counts each that ends in 1\n",
        "# print(i**2) would check all the numbers which would all end in 1\n",
        "print(count)    # displays the count\n"
      ]
    },
    {
      "cell_type": "code",
      "source": [
        "# Find all perfect numbers less than 10000 by going through each number\n",
        "# Find in each i the divisors with j and whether i % j == 0 means it is,\n",
        "# The range already discludes i so we just add it each to a variable for\n",
        "# each iteration. if sum_of_divisors == i it is a perfect number and display it\n",
        "for i in range(1, 10001):    # Example 6\n",
        "    sum_of_divisors = 0      # sum_of_divisors = 0\n",
        "    for j in range(1, i):    # Explore 1-5\n",
        "        if i % j == 0:       # 1, 2, 3 all divide into 6 with 0 remainder\n",
        "            sum_of_divisors += j   # sum_of_divisors= 0+1=1, then 1+2=3, then 3+3=6\n",
        "    if sum_of_divisors == i:   # if 6 = i, which is 6\n",
        "        print(i)               # then display 6 because it is a perfect number"
      ],
      "metadata": {
        "colab": {
          "base_uri": "https://localhost:8080/"
        },
        "id": "ClHUoZdNgo5o",
        "outputId": "cab902d8-5914-491f-882f-ec8fb8c942ec"
      },
      "execution_count": 3,
      "outputs": [
        {
          "output_type": "stream",
          "name": "stdout",
          "text": [
            "6\n",
            "28\n",
            "496\n",
            "8128\n"
          ]
        }
      ]
    },
    {
      "cell_type": "code",
      "source": [
        "# Swapping values of variables, this is the shortcut\n",
        "x=3\n",
        "y=4\n",
        "z=9\n",
        "print(x,y,z)\n",
        "x, y, z = y, z, x\n",
        "print(x,y,z)"
      ],
      "metadata": {
        "colab": {
          "base_uri": "https://localhost:8080/"
        },
        "id": "tqVO_jTRRf9B",
        "outputId": "82a0f481-d6fc-41b5-eec7-f8f2946f74e5"
      },
      "execution_count": 4,
      "outputs": [
        {
          "output_type": "stream",
          "name": "stdout",
          "text": [
            "3 4 9\n",
            "4 9 3\n"
          ]
        }
      ]
    },
    {
      "cell_type": "code",
      "source": [
        "# Swapping values of variable, this is the other way\n",
        "x=3\n",
        "y=4\n",
        "z=9\n",
        "swap=0\n",
        "print(x, y, z)\n",
        "swap=x\n",
        "x=y\n",
        "y=z\n",
        "z=swap\n",
        "print(x, y, z)"
      ],
      "metadata": {
        "colab": {
          "base_uri": "https://localhost:8080/"
        },
        "id": "wzOxX8G4golg",
        "outputId": "452d8687-e177-4795-e4a5-6991c076858d"
      },
      "execution_count": 5,
      "outputs": [
        {
          "output_type": "stream",
          "name": "stdout",
          "text": [
            "3 4 9\n",
            "4 9 3\n"
          ]
        }
      ]
    }
  ]
}