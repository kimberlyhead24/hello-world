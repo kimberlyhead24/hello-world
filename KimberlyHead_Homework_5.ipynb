{
  "nbformat": 4,
  "nbformat_minor": 0,
  "metadata": {
    "colab": {
      "provenance": [],
      "authorship_tag": "ABX9TyNkdBAMz8aag3WhO8Qw8NYn",
      "include_colab_link": true
    },
    "kernelspec": {
      "name": "python3",
      "display_name": "Python 3"
    },
    "language_info": {
      "name": "python"
    }
  },
  "cells": [
    {
      "cell_type": "markdown",
      "metadata": {
        "id": "view-in-github",
        "colab_type": "text"
      },
      "source": [
        "<a href=\"https://colab.research.google.com/github/kimberlyhead24/hello-world/blob/main/KimberlyHead_Homework_5.ipynb\" target=\"_parent\"><img src=\"https://colab.research.google.com/assets/colab-badge.svg\" alt=\"Open In Colab\"/></a>"
      ]
    },
    {
      "cell_type": "code",
      "execution_count": 2,
      "metadata": {
        "colab": {
          "base_uri": "https://localhost:8080/"
        },
        "id": "hDYyUMlX62L-",
        "outputId": "3bcc37a7-8ff3-4840-c66e-5a4328e4b298"
      },
      "outputs": [
        {
          "output_type": "stream",
          "name": "stdout",
          "text": [
            "Enter a height in decimal form: 4.75\n",
            "4 feet and 9.0 inches\n"
          ]
        }
      ],
      "source": [
        "# Program that converts a decimal height in feet and inches.\n",
        "dec_height = eval(input('Enter a height in decimal form: '))\n",
        "feet = int(dec_height)\n",
        "inches = round((dec_height - feet) * 12, 1)\n",
        "print(feet, 'feet and', inches, 'inches')"
      ]
    },
    {
      "cell_type": "code",
      "source": [
        "Done = False\n",
        "height_list = []\n",
        "while not Done:\n",
        "  height = input('Enter a height in feet and inches (e.g. 5\\'4\\'\\'): ')\n",
        "  if height == 'done':\n",
        "      Done = True\n",
        "  else:\n",
        "      height_list.append(height)\n",
        "\n",
        "# Calculating the amount of 4-footers through 7-footers we have\n",
        "for foot in range(4, 8):  # the footers we want to count 4 through 7\n",
        "    print('{}-footers:'.format(foot), end=' ')     # start first part of print with the footers\n",
        "    count = 0                                      # set a count\n",
        "    for h in height_list:                          # Go through each value of height list\n",
        "        if h[0] == str(foot):                      # we want the 0 index to be the foot amount\n",
        "            print(h, end=' ')                     # Nested loop printing matching height\n",
        "            count += 1                             # counting how many we find\n",
        "    print('- total: {}'.format(count))                       # I wanted to try to cover the whole lesson\n",
        "                                                   # in this which was format, break, nested loops\n",
        "                                                   # and boolean, So I used format to make it easier\n",
        "                                                   # to write the print statements, instead of 4 of them\n",
        "                                                   # Used a boolean to know when the user is done\n",
        "                                                   # Used a nested loop similar to lecture\n",
        "\n",
        ""
      ],
      "metadata": {
        "colab": {
          "base_uri": "https://localhost:8080/"
        },
        "id": "ws5hrF4gALIf",
        "outputId": "40e14a9e-5836-4bc0-c9bd-ba1dce8b0f4b"
      },
      "execution_count": 13,
      "outputs": [
        {
          "output_type": "stream",
          "name": "stdout",
          "text": [
            "Enter a height in feet and inches (e.g. 5'4''): 4'11''\n",
            "Enter a height in feet and inches (e.g. 5'4''): 5'0''\n",
            "Enter a height in feet and inches (e.g. 5'4''): 5'6''\n",
            "Enter a height in feet and inches (e.g. 5'4''): 6'1''\n",
            "Enter a height in feet and inches (e.g. 5'4''): 4'8''\n",
            "Enter a height in feet and inches (e.g. 5'4''): 7'2''\n",
            "Enter a height in feet and inches (e.g. 5'4''): 6'0''\n",
            "Enter a height in feet and inches (e.g. 5'4''): 5'3''\n",
            "Enter a height in feet and inches (e.g. 5'4''): 6'5''\n",
            "Enter a height in feet and inches (e.g. 5'4''): 7'0''\n",
            "Enter a height in feet and inches (e.g. 5'4''): done\n",
            "4-footers: 4'11'' 4'8'' - total: 2\n",
            "5-footers: 5'0'' 5'6'' 5'3'' - total: 3\n",
            "6-footers: 6'1'' 6'0'' 6'5'' - total: 3\n",
            "7-footers: 7'2'' 7'0'' - total: 2\n"
          ]
        }
      ]
    },
    {
      "cell_type": "code",
      "source": [
        "# Program that asks for football scores in win-lost format, finds the highest and lowest score\n",
        "\n",
        "done = False\n",
        "score_list = []\n",
        "\n",
        "while not done:\n",
        "    scores = input('Enter game score (e.g 27-13), or done to finish: ')\n",
        "    if scores == 'done':\n",
        "        done = True\n",
        "        break\n",
        "    else:\n",
        "        # Split into two parts and convert both sides to integers\n",
        "        parts = scores.split('-')    # We are making another variable to separate by index\n",
        "        win = int(parts[0])          # wins are the first number\n",
        "        lost = int(parts[1])         # losses are the second number\n",
        "        score_list.append(win)       # Appending both to the list\n",
        "        score_list.append(lost)      # since it says max and low of all numbers\n",
        "\n",
        "\n",
        "print('Highest score:', max(score_list))\n",
        "print('Lowest score:', min(score_list))\n",
        "\n"
      ],
      "metadata": {
        "colab": {
          "base_uri": "https://localhost:8080/"
        },
        "id": "stIVk51cSf__",
        "outputId": "73d74619-63c7-4456-ce1b-2bf180edb5f0"
      },
      "execution_count": 15,
      "outputs": [
        {
          "output_type": "stream",
          "name": "stdout",
          "text": [
            "Enter game score (e.g 27-13), or done to finish: 38-20\n",
            "Enter game score (e.g 27-13), or done to finish: 35-15\n",
            "Enter game score (e.g 27-13), or done to finish: 28-7\n",
            "Enter game score (e.g 27-13), or done to finish: 31-4\n",
            "Enter game score (e.g 27-13), or done to finish: done\n",
            "Highest score: 38\n",
            "Lowest score: 4\n"
          ]
        }
      ]
    }
  ]
}