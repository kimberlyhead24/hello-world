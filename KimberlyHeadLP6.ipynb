{
  "nbformat": 4,
  "nbformat_minor": 0,
  "metadata": {
    "colab": {
      "provenance": [],
      "authorship_tag": "ABX9TyMDk721+XqTRDAjbBID6sw9",
      "include_colab_link": true
    },
    "kernelspec": {
      "name": "python3",
      "display_name": "Python 3"
    },
    "language_info": {
      "name": "python"
    }
  },
  "cells": [
    {
      "cell_type": "markdown",
      "metadata": {
        "id": "view-in-github",
        "colab_type": "text"
      },
      "source": [
        "<a href=\"https://colab.research.google.com/github/kimberlyhead24/hello-world/blob/main/KimberlyHeadLP6.ipynb\" target=\"_parent\"><img src=\"https://colab.research.google.com/assets/colab-badge.svg\" alt=\"Open In Colab\"/></a>"
      ]
    },
    {
      "cell_type": "code",
      "execution_count": 7,
      "metadata": {
        "id": "NejS0B7Au-ee",
        "colab": {
          "base_uri": "https://localhost:8080/"
        },
        "outputId": "447ad8b0-e69b-47c8-cd71-01462789f651"
      },
      "outputs": [
        {
          "output_type": "stream",
          "name": "stdout",
          "text": [
            "Enter length in centimeters: 25\n",
            "9.84251968503937 inches\n"
          ]
        }
      ],
      "source": [
        "# Conversion of centimeters to inches\n",
        "\n",
        "length = eval(input('Enter length in centimeters: '))\n",
        "if length < 0:\n",
        "  print('Entry Invalid.')\n",
        "else:\n",
        "  length = length / 2.54\n",
        "  print(length, 'inches')"
      ]
    },
    {
      "cell_type": "code",
      "source": [
        "# Monty Hall Game with 3 doors\n",
        "from random import randint\n",
        "\n",
        "count_no_switch = 0  # wins by staying\n",
        "count_switch = 0     # wins by switching\n",
        "\n",
        "for i in range(10000):\n",
        "    # Randomly assign car behind one door\n",
        "    car = randint(1, 3)\n",
        "\n",
        "    # User picks a door\n",
        "    pick1 = randint(1, 3)\n",
        "\n",
        "    # Monty opens a goat door that's not the prize and not the pick. If you switch,\n",
        "    # there is only one door left unopened and not your initial pick.\n",
        "    for door in (1, 2, 3):\n",
        "        if door != pick1 and door != car:\n",
        "            monty_opens = door\n",
        "    for door in (1, 2, 3):\n",
        "        if door != pick1 and door != monty_opens:\n",
        "            switch_to = door\n",
        "    # Do not switch\n",
        "    if pick1 == car:\n",
        "        count_no_switch += 1\n",
        "\n",
        "    # Do switch\n",
        "    if switch_to == car:\n",
        "        count_switch += 1\n",
        "\n",
        "# Win percentages\n",
        "percent_no_switch = (count_no_switch / 10000) * 100\n",
        "percent_switch = (count_switch / 10000) * 100\n",
        "\n",
        "print(f'Percent win when no switch: {percent_no_switch:.2f}%')\n",
        "print(f'Percent win when switch: {percent_switch:.2f}%')\n"
      ],
      "metadata": {
        "colab": {
          "base_uri": "https://localhost:8080/"
        },
        "id": "g9tdE8NGraBp",
        "outputId": "e8c8f19c-3eb2-4406-d0f9-afe90c2f5d3f"
      },
      "execution_count": 24,
      "outputs": [
        {
          "output_type": "stream",
          "name": "stdout",
          "text": [
            "Percent win when no switch: 34.07%\n",
            "Percent win when switch: 65.93%\n"
          ]
        }
      ]
    },
    {
      "cell_type": "code",
      "source": [
        "# Monty Hall Game with 4 doors\n",
        "from random import randint\n",
        "\n",
        "count_no_switch = 0  # wins by staying\n",
        "count_switch = 0     # wins by switching\n",
        "\n",
        "for i in range(10000):\n",
        " # Randomly assign car behind one of four doors\n",
        "  car = randint(1, 4)\n",
        "\n",
        " # User picks a door\n",
        "  pick1 = randint(1, 4)\n",
        "\n",
        " # Monty opens a goat door that's not the prize and not the pick. If you switch,\n",
        " # there is only one two doors left unopened and not your initial pick.\n",
        "  for door in range(1, 5):\n",
        "     if door != pick1 and door != car:\n",
        "       monty_opens = door\n",
        "  count = 0\n",
        "  for door in range(1, 5):\n",
        "    if door != pick1 and door != monty_opens:\n",
        "      count += 1\n",
        "      if count == 1:    # We are defining to the program the 2 doors left\n",
        "        switch1 = door\n",
        "      else:\n",
        "        switch2 = door\n",
        "  if randint(0, 1) == 0:  # We are picking which door randomly\n",
        "     pick2 = switch1\n",
        "  else:\n",
        "     pick2 = switch2\n",
        "\n",
        "     # Do not switch\n",
        "  if pick1 == car:\n",
        "     count_no_switch += 1\n",
        "\n",
        "    # Do switch\n",
        "  if pick2 == car:\n",
        "     count_switch += 1\n",
        "\n",
        "# Win percentages\n",
        "percent_no_switch = (count_no_switch / 10000) * 100\n",
        "percent_switch = (count_switch / 10000) * 100\n",
        "\n",
        "print(f'Percent win when no switch: {percent_no_switch:.2f}%')\n",
        "print(f'Percent win when switch: {percent_switch:.2f}%')"
      ],
      "metadata": {
        "colab": {
          "base_uri": "https://localhost:8080/"
        },
        "id": "639h38RFCn2m",
        "outputId": "335d0c6c-b3a3-45f5-d053-a1f18dd82f16"
      },
      "execution_count": 25,
      "outputs": [
        {
          "output_type": "stream",
          "name": "stdout",
          "text": [
            "Percent win when no switch: 24.85%\n",
            "Percent win when switch: 36.56%\n"
          ]
        }
      ]
    },
    {
      "cell_type": "code",
      "source": [],
      "metadata": {
        "id": "p0y4WsGAHZxV"
      },
      "execution_count": null,
      "outputs": []
    }
  ]
}