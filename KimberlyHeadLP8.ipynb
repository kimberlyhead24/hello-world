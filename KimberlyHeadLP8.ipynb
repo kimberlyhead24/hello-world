{
  "nbformat": 4,
  "nbformat_minor": 0,
  "metadata": {
    "colab": {
      "provenance": [],
      "authorship_tag": "ABX9TyMRY11oDYE5u8egv74sLytl",
      "include_colab_link": true
    },
    "kernelspec": {
      "name": "python3",
      "display_name": "Python 3"
    },
    "language_info": {
      "name": "python"
    }
  },
  "cells": [
    {
      "cell_type": "markdown",
      "metadata": {
        "id": "view-in-github",
        "colab_type": "text"
      },
      "source": [
        "<a href=\"https://colab.research.google.com/github/kimberlyhead24/hello-world/blob/main/KimberlyHeadLP8.ipynb\" target=\"_parent\"><img src=\"https://colab.research.google.com/assets/colab-badge.svg\" alt=\"Open In Colab\"/></a>"
      ]
    },
    {
      "cell_type": "code",
      "execution_count": 8,
      "metadata": {
        "colab": {
          "base_uri": "https://localhost:8080/"
        },
        "id": "zOjQSHeIe-QR",
        "outputId": "8baf0492-8a25-4c2f-9c44-d8288117c2c2"
      },
      "outputs": [
        {
          "output_type": "stream",
          "name": "stdout",
          "text": [
            "\n",
            "\n",
            "\n",
            "\n",
            "\n",
            "\n",
            "\n",
            "\n",
            "\n",
            "\n",
            "\n"
          ]
        }
      ],
      "source": [
        "print('\\n'*10)"
      ]
    },
    {
      "cell_type": "code",
      "source": [
        "# Finding all the 'a'(s) in a word, I improved user experience\n",
        "# by adding one to the index so it makes sense to a non-programmer\n",
        "# The print statement holds the {letter}, {index}, and {word}\n",
        "word = input('Enter a word: ')\n",
        "word = word.lower()    # Changing to all lower case just in case\n",
        "letter = 'a'\n",
        "index = ''\n",
        "\n",
        "for i in range(len(word)):\n",
        "    if word[i] == letter:\n",
        "        index += str(i+1) + ', '  # adding comma and space for readability\n",
        "\n",
        "if index:\n",
        "    print(f'The letter {letter} is at position(s) {index}in the word {word}.')\n",
        "else:\n",
        "    print(f'The letter {letter} is not in the word {word}.')\n",
        "\n"
      ],
      "metadata": {
        "colab": {
          "base_uri": "https://localhost:8080/"
        },
        "id": "Qncm7aFP7OuG",
        "outputId": "6d7a3fa1-a93a-473e-eb6c-2b26aab57772"
      },
      "execution_count": 24,
      "outputs": [
        {
          "output_type": "stream",
          "name": "stdout",
          "text": [
            "Enter a word: dog\n",
            "The letter a is not in the word dog.\n"
          ]
        }
      ]
    },
    {
      "cell_type": "code",
      "source": [
        "# Generate from user a word and build a new string doubling the letters\n",
        "word = input('Enter a word: ')\n",
        "new_word = ''\n",
        "for letter in word:\n",
        "    new_word += letter * 2 #Concatenate\n",
        "print(new_word)"
      ],
      "metadata": {
        "colab": {
          "base_uri": "https://localhost:8080/"
        },
        "id": "arOgGWIEAMZm",
        "outputId": "333e4720-ac3f-45f7-84b1-b6a6df935e15"
      },
      "execution_count": 25,
      "outputs": [
        {
          "output_type": "stream",
          "name": "stdout",
          "text": [
            "Enter a word: Kimberly\n",
            "KKiimmbbeerrllyy\n"
          ]
        }
      ]
    },
    {
      "cell_type": "code",
      "source": [
        "# Name pattern print out\n",
        "name = input('Enter your name: ')\n",
        "for i in range(len(name)):\n",
        "    print(name[:i+1], end=' ')    # Use indexing to create pattern\n",
        "\n"
      ],
      "metadata": {
        "colab": {
          "base_uri": "https://localhost:8080/"
        },
        "id": "F5Ae3iuZAkj6",
        "outputId": "5053ccb0-34a9-4ed0-92d4-bebc5610b8ca"
      },
      "execution_count": 32,
      "outputs": [
        {
          "output_type": "stream",
          "name": "stdout",
          "text": [
            "Enter your name: Kimberly\n",
            "K Ki Kim Kimb Kimbe Kimber Kimberl Kimberly "
          ]
        }
      ]
    },
    {
      "cell_type": "code",
      "source": [
        "# Removes capitalization and common punctuations\n",
        "s = input('Enter a sentence: ')\n",
        "s.lower().replace('\\'', '').replace(',', '').replace('.', '')"
      ],
      "metadata": {
        "colab": {
          "base_uri": "https://localhost:8080/",
          "height": 53
        },
        "id": "D5lz9-fEC6ux",
        "outputId": "a08ef99c-3749-4dfd-a93c-2682a3a3f980"
      },
      "execution_count": 34,
      "outputs": [
        {
          "name": "stdout",
          "output_type": "stream",
          "text": [
            "Enter a sentence: Hello my name is Kimberly. What's up\n"
          ]
        },
        {
          "output_type": "execute_result",
          "data": {
            "text/plain": [
              "'hello my name is kimberly whats up'"
            ],
            "application/vnd.google.colaboratory.intrinsic+json": {
              "type": "string"
            }
          },
          "metadata": {},
          "execution_count": 34
        }
      ]
    },
    {
      "cell_type": "code",
      "source": [
        "# Print the decimal part of a number, not\n",
        "# through calculations by string splicing\n",
        "num = input('Enter a number with a decimal: ')\n",
        "for i in range(len(num)):\n",
        "    if num[i] == '.':\n",
        "        print(num[i+1: ])\n"
      ],
      "metadata": {
        "colab": {
          "base_uri": "https://localhost:8080/"
        },
        "id": "-HRBeYIaC6ZD",
        "outputId": "356d0f5f-bbb9-4bad-e435-bb09d1ca258e"
      },
      "execution_count": 36,
      "outputs": [
        {
          "output_type": "stream",
          "name": "stdout",
          "text": [
            "Enter a number with a decimal: 3.41258\n",
            "41258\n"
          ]
        }
      ]
    },
    {
      "cell_type": "code",
      "source": [
        "# Encrypting secret message\n",
        "alphabet = \"abcdefghijklmnopqrstuvwxyz\"    # Build key\n",
        "encrypted =   \"xzywvutsrqponmlkjihgfedcba\"\n",
        "\n",
        "message = input(\"Enter your message: \").lower()  # Convert to lowercase\n",
        "\n",
        "for i in range(len(alphabet)):\n",
        "    message = message.replace(alphabet[i], encrypted[i]) # replace with the encrypted letter\n",
        "\n",
        "print(\"Ciphertext:\", message)\n"
      ],
      "metadata": {
        "colab": {
          "base_uri": "https://localhost:8080/"
        },
        "id": "7BNaVJM4J1X9",
        "outputId": "124580fb-ecaf-4c5b-b8fd-169eda957a5a"
      },
      "execution_count": 39,
      "outputs": [
        {
          "output_type": "stream",
          "name": "stdout",
          "text": [
            "Enter your message: Hello, how are you doing today? This is super secret, can you read what it says?\n",
            "Ciphertext: helll, hld cie blf dlimg gldcb? ghih ih hfkei hebieg, bcm blf iecd dhcg ig hcbh?\n"
          ]
        }
      ]
    }
  ]
}