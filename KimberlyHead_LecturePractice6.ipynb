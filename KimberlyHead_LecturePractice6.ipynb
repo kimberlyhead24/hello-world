{
  "nbformat": 4,
  "nbformat_minor": 0,
  "metadata": {
    "colab": {
      "provenance": [],
      "authorship_tag": "ABX9TyO0EaFV59ghfYHKQxzEk2Km",
      "include_colab_link": true
    },
    "kernelspec": {
      "name": "python3",
      "display_name": "Python 3"
    },
    "language_info": {
      "name": "python"
    }
  },
  "cells": [
    {
      "cell_type": "markdown",
      "metadata": {
        "id": "view-in-github",
        "colab_type": "text"
      },
      "source": [
        "<a href=\"https://colab.research.google.com/github/kimberlyhead24/hello-world/blob/main/KimberlyHead_LecturePractice6.ipynb\" target=\"_parent\"><img src=\"https://colab.research.google.com/assets/colab-badge.svg\" alt=\"Open In Colab\"/></a>"
      ]
    },
    {
      "cell_type": "code",
      "execution_count": 4,
      "metadata": {
        "colab": {
          "base_uri": "https://localhost:8080/"
        },
        "id": "j6bWjdt49E6K",
        "outputId": "3a0c4007-6d9e-412a-f356-e0e90aaade6a"
      },
      "outputs": [
        {
          "output_type": "stream",
          "name": "stdout",
          "text": [
            "Enter the team name, wins, and losses (e.g. Bobcats, 25, 30), or type 'quit' to finish: Thunderhawks, 8, 2\n",
            "Enter the team name, wins, and losses (e.g. Bobcats, 25, 30), or type 'quit' to finish: Silver Comets, 5, 5\n",
            "Enter the team name, wins, and losses (e.g. Bobcats, 25, 30), or type 'quit' to finish: Crimson Bears, 7, 3\n",
            "Enter the team name, wins, and losses (e.g. Bobcats, 25, 30), or type 'quit' to finish: Frost Giants, 3, 7\n",
            "Enter the team name, wins, and losses (e.g. Bobcats, 25, 30), or type 'quit' to finish: Emerald Stingrays, 9, 1\n",
            "Enter the team name, wins, and losses (e.g. Bobcats, 25, 30), or type 'quit' to finish: Golden Griffens, 6, 4\n",
            "Enter the team name, wins, and losses (e.g. Bobcats, 25, 30), or type 'quit' to finish: Iron Salamanders, 2, 8\n",
            "Enter the team name, wins, and losses (e.g. Bobcats, 25, 30), or type 'quit' to finish: Violet Vipers, 4, 6\n",
            "Enter the team name, wins, and losses (e.g. Bobcats, 25, 30), or type 'quit' to finish: Obsidian Otters, 7, 3\n",
            "Enter the team name, wins, and losses (e.g. Bobcats, 25, 30), or type 'quit' to finish: Azure Falcons, 1, 9\n",
            "Enter the team name, wins, and losses (e.g. Bobcats, 25, 30), or type 'quit' to finish: quit\n",
            "Team dictionary: {'Thunderhawks': [8, 2], 'Silver Comets': [5, 5], 'Crimson Bears': [7, 3], 'Frost Giants': [3, 7], 'Emerald Stingrays': [9, 1], 'Golden Griffens': [6, 4], 'Iron Salamanders': [2, 8], 'Violet Vipers': [4, 6], 'Obsidian Otters': [7, 3], 'Azure Falcons': [1, 9]}\n",
            "List of wins for all teams: [8, 5, 7, 3, 9, 6, 2, 4, 7, 1]\n",
            "Teams sorted by wins (descending):\n",
            "Emerald Stingrays: 9 wins, 1 losses\n",
            "Thunderhawks: 8 wins, 2 losses\n",
            "Crimson Bears: 7 wins, 3 losses\n",
            "Obsidian Otters: 7 wins, 3 losses\n",
            "Golden Griffens: 6 wins, 4 losses\n",
            "Silver Comets: 5 wins, 5 losses\n",
            "Violet Vipers: 4 wins, 6 losses\n",
            "Frost Giants: 3 wins, 7 losses\n",
            "Iron Salamanders: 2 wins, 8 losses\n",
            "Azure Falcons: 1 wins, 9 losses\n",
            "Enter the team name to calculate the percentage: Frost Giants\n",
            "The win percentage for Frost Giants is 30.00%\n",
            "The total number of wins is 52\n",
            "Winning teams ordered by winning difference: ['Emerald Stingrays', 'Thunderhawks', 'Crimson Bears', 'Obsidian Otters', 'Golden Griffens']\n"
          ]
        }
      ],
      "source": [
        "# Dictionaries with team games\n",
        "# I wanted to practice a few things like try and except and then while True, I also put in a lot of checks because it was hard to input without\n",
        "# accidental error and then having to restart all over again.\n",
        "\n",
        "team_games = {}     # create our empty dictionary\n",
        "\n",
        "while True:      # keep asking user for team name, wins, and losses until they type 'quit' and hit a break\n",
        "    entry = input(\"Enter the team name, wins, and losses (e.g. Bobcats, 25, 30), or type 'quit' to finish: \")\n",
        "    if entry.strip().lower() == \"quit\":\n",
        "        break\n",
        "    if not isinstance(entry, str):  # Safety check because it kept giving me an error about the split being used on a list probably from running entry as a list before in Colab\n",
        "        entry = str(entry)      # making sure entry is still a string so we can use split function\n",
        "    parts = entry.split(',')\n",
        "    if len(parts) != 3:        # safety check so if you miss a comma in entry it will allow you to reenter it\n",
        "        print(\"Error: Please enter your data in the format: TeamName, Wins, Losses\")\n",
        "        continue\n",
        "    team = parts[0].strip()     # first entry before first comma is team\n",
        "    try:\n",
        "        wins = int(parts[1].strip())   # second entry before second comma is an integer called wins\n",
        "        losses = int(parts[2].strip())  # third entry before second comma is an integer called losses\n",
        "    except ValueError:      # if it cannot be turned to an integer, then it is not a number and we print an error\n",
        "        print(\"Error: Wins and losses must be numbers.\")\n",
        "        continue\n",
        "    team_games[team] = [wins, losses]     # create the final dictionary team_games = {team: [wins, losses], team: [wins, losses]}\n",
        "\n",
        "print(\"Team dictionary:\", team_games)      # Display the dictionary thus far\n",
        "\n",
        "# b. List of wins\n",
        "wins_list = [games[0] for games in team_games.values()]    # list comprehension asking for the first value to the team key which is wins\n",
        "print(\"List of wins for all teams:\", wins_list)           # display the list of all wins\n",
        "\n",
        "def get_wins(item):                                        # new concept learned of incorporating a key to help by defining a key function\n",
        "    return item[1][0]\n",
        "\n",
        "sorted_teams = sorted(team_games.items(), key=get_wins, reverse=True)    # sorting the list with the key to descending order of wins\n",
        "print(\"Teams sorted by wins (descending):\")\n",
        "for team, record in sorted_teams:                                       # Display our sorted list, honestly I was not sure what the instructions meant\n",
        "    print(f\"{team}: {record[0]} wins, {record[1]} losses\")              # a list of only the wins, a list of wins with the team in order, or total wins for all teams\n",
        "                                                                        # so I did all of them\n",
        "\n",
        "# Winning percentage calculation\n",
        "percentage_request = input(\"Enter the team name to calculate the percentage: \")    # Asking the user what team they would like to see the percentage of wins from\n",
        "percentage = team_games.get(percentage_request)                                    # acquiring the team they asked for\n",
        "if percentage:                                                                     # If the team exists\n",
        "    total_games = percentage[0] + percentage[1]                                    # set the total to find the average as the wins plus losses\n",
        "    win_percentage = (percentage[0] / total_games) * 100                           # Find average through wins divided by total\n",
        "    print(f\"The win percentage for {percentage_request} is {win_percentage:.2f}%\")  # Display as a percentage\n",
        "else:\n",
        "    print(f\"No data found for {percentage_request}\")                               # If the team did not exist print error\n",
        "\n",
        "\n",
        "# Total number of wins\n",
        "total_wins = sum(games[0] for games in team_games.values())                       # This is where I give the entire amount of wins of all teams summed together\n",
        "print(f\"The total number of wins is {total_wins}\")\n",
        "\n",
        "# c. List of teams with winning records\n",
        "\n",
        "def winning_difference(item):                                           # Using my newly learned function key to find the difference  of wins to losses\n",
        "    # item[1][0] = wins, item[1][1] = losses                            # to find who would have the winning records\n",
        "    return item[1][0] - item[1][1]\n",
        "\n",
        "# First, filter for teams with winning records (wins > losses) because that would make them a better team\n",
        "winning_teams_items = [(team, games) for team, games in team_games.items() if games[0] > games[1]]\n",
        "\n",
        "# Then, sort this list by winning difference, highest first by using my winning_difference key function\n",
        "sorted_winning_teams = sorted(winning_teams_items, key=winning_difference, reverse=True)\n",
        "\n",
        "# Now extract just the team names, in order\n",
        "ordered_winning_team_names = [team for team, games in sorted_winning_teams]\n",
        "\n",
        "print(\"Winning teams ordered by winning difference:\", ordered_winning_team_names)\n",
        "\n"
      ]
    }
  ]
}