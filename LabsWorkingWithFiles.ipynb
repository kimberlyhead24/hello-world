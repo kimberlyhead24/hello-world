{
  "nbformat": 4,
  "nbformat_minor": 0,
  "metadata": {
    "colab": {
      "provenance": [],
      "authorship_tag": "ABX9TyPlnckrhwgtyJk8VazFwntM",
      "include_colab_link": true
    },
    "kernelspec": {
      "name": "python3",
      "display_name": "Python 3"
    },
    "language_info": {
      "name": "python"
    }
  },
  "cells": [
    {
      "cell_type": "markdown",
      "metadata": {
        "id": "view-in-github",
        "colab_type": "text"
      },
      "source": [
        "<a href=\"https://colab.research.google.com/github/kimberlyhead24/hello-world/blob/main/LabsWorkingWithFiles.ipynb\" target=\"_parent\"><img src=\"https://colab.research.google.com/assets/colab-badge.svg\" alt=\"Open In Colab\"/></a>"
      ]
    },
    {
      "cell_type": "code",
      "execution_count": null,
      "metadata": {
        "colab": {
          "base_uri": "https://localhost:8080/"
        },
        "id": "wcEQ1qejUFNZ",
        "outputId": "e42d76be-1632-49f1-c5c7-216dcc835ce3"
      },
      "outputs": [
        {
          "output_type": "stream",
          "name": "stdout",
          "text": [
            "Enter the start index: 0\n",
            "Enter the end index: 4\n",
            "apple\n",
            "banana\n",
            "cherry\n",
            "date\n",
            "elderberry\n"
          ]
        }
      ],
      "source": [
        "# Words in a range, handling with files\n",
        "# Create a temporary 'words.txt' file in Colab\n",
        "words = ['apple', 'banana', 'cherry', 'date', 'elderberry', 'fig', 'grape']\n",
        "with open(\"words.txt\", 'w') as f:\n",
        "  for word in words:\n",
        "    f.write(word + \"\\n\")\n",
        "\n",
        "# Program to print words in a given range\n",
        "start = int(input(\"Enter the start index: \"))\n",
        "end = int(input(\"Enter the end index: \"))\n",
        "\n",
        "with open('words.txt', 'r') as f:\n",
        "  lines = f.read().splitlines()\n",
        "\n",
        "# Print words in the range[start, end]\n",
        "for word in lines[start:end+1]:\n",
        "  print(word)"
      ]
    },
    {
      "cell_type": "code",
      "source": [
        "import csv\n",
        "\n",
        "# Write words to CSV\n",
        "# or you can import csv import csv\n",
        "\n",
        "# with open(\"input1.csv\", \"w\") as f:\n",
        "#    f.write(\"hello,cat,man,hey,dog,boy,Hello,man,cat,woman,dog,Cat,hey,boy\")\n",
        "\n",
        "\n",
        "# Write words to CSV\n",
        "words = ['hello', 'cat', 'man', 'hey', 'dog', 'boy', 'Hello', 'man', 'cat', 'woman', 'dog', 'Cat', 'hey', 'boy']\n",
        "\n",
        "with open('input1.csv', 'w', newline='') as csvfile:\n",
        "    writer = csv.writer(csvfile)\n",
        "    writer.writerow(words)\n",
        "\n",
        "# Read file name from user\n",
        "file_name = input(\"Enter a filename (e.g. input1.csv): \")\n",
        "\n",
        "word_counts = {}\n",
        "with open(file_name, 'r') as csvfile:\n",
        "    reader = csv.reader(csvfile)\n",
        "    for row in reader:\n",
        "        for word in row:\n",
        "            if word in word_counts:\n",
        "                word_counts[word] += 1\n",
        "            else:\n",
        "                word_counts[word] = 1\n",
        "\n",
        "for word, count in word_counts.items():\n",
        "    print(f\"{word}: {count}\")\n"
      ],
      "metadata": {
        "colab": {
          "base_uri": "https://localhost:8080/"
        },
        "id": "Y1kT_l1am0gQ",
        "outputId": "c4ce7b01-05f2-4cdb-c1d6-542e787ad192"
      },
      "execution_count": null,
      "outputs": [
        {
          "output_type": "stream",
          "name": "stdout",
          "text": [
            "Enter a filename (e.g. input1.csv): input1.csv\n",
            "hello: 1\n",
            "cat: 2\n",
            "man: 2\n",
            "hey: 2\n",
            "dog: 2\n",
            "boy: 2\n",
            "Hello: 1\n",
            "woman: 1\n",
            "Cat: 1\n"
          ]
        }
      ]
    },
    {
      "cell_type": "code",
      "source": [
        "# Write the test data to the file \"shows.txt\"\n",
        "with open(\"shows.txt\", \"w\") as f:\n",
        "    f.write(\n",
        "        \"20\\nGunsmoke\\n30\\nThe Simpsons\\n10\\nWill & Grace\\n14\\nDallas\\n\"\n",
        "        \"20\\nLaw & Order\\n12\\nMurder, She Wrote\\n\"\n",
        "    )\n",
        "\n",
        "# Prompt for filename\n",
        "filename = input(\"Enter a filename (e.g. shows.txt): \")\n",
        "\n",
        "tv_dict = {}\n",
        "with open(filename, \"r\") as infile:\n",
        "    lines = [line.strip() for line in infile if line.strip() != \"\"]\n",
        "\n",
        "    # Process lines in pairs: seasons [even], show [odd]\n",
        "    for i in range(0, len(lines), 2):\n",
        "        seasons = int(lines[i])\n",
        "        show = lines[i + 1]\n",
        "        if seasons not in tv_dict:\n",
        "            tv_dict[seasons] = []\n",
        "        tv_dict[seasons].append(show)\n",
        "\n",
        "# Write season: shows dictionary to output_keys.txt\n",
        "with open(\"output_keys.txt\", \"w\") as out1:\n",
        "    for s in sorted(tv_dict.keys()):\n",
        "        line = f\"{s}: {'; '.join(tv_dict[s])}\\n\"\n",
        "        out1.write(line)\n",
        "\n",
        "# Write alphabetical shows list to output_titles.txt\n",
        "titles = []\n",
        "for showlist in tv_dict.values():\n",
        "    titles.extend(showlist)\n",
        "with open(\"output_titles.txt\", \"w\") as out2:\n",
        "    for show in sorted(titles):\n",
        "        out2.write(show + \"\\n\")\n",
        "\n",
        "# Print contents of output_keys.txt\n",
        "print(\"Contents of output_keys.txt:\")\n",
        "with open(\"output_keys.txt\", \"r\") as f:\n",
        "    print(f.read())\n",
        "\n",
        "# Print contents of output_titles.txt\n",
        "print(\"Contents of output_titles.txt:\")\n",
        "with open(\"output_titles.txt\", \"r\") as f:\n",
        "    print(f.read())\n",
        "\n"
      ],
      "metadata": {
        "colab": {
          "base_uri": "https://localhost:8080/"
        },
        "id": "Qe4LpuyTR4Hy",
        "outputId": "d83f4f08-8f9f-4874-a660-8b2f972d604f"
      },
      "execution_count": 3,
      "outputs": [
        {
          "output_type": "stream",
          "name": "stdout",
          "text": [
            "Enter a filename (e.g. shows.txt): shows.txt\n",
            "Contents of output_keys.txt:\n",
            "10: Will & Grace\n",
            "12: Murder, She Wrote\n",
            "14: Dallas\n",
            "20: Gunsmoke; Law & Order\n",
            "30: The Simpsons\n",
            "\n",
            "Contents of output_titles.txt:\n",
            "Dallas\n",
            "Gunsmoke\n",
            "Law & Order\n",
            "Murder, She Wrote\n",
            "The Simpsons\n",
            "Will & Grace\n",
            "\n"
          ]
        }
      ]
    },
    {
      "cell_type": "code",
      "source": [
        "# Example: Student grades paired with student names\n",
        "\n",
        "# Write test data to a file \"grades.txt\"\n",
        "with open(\"grades.txt\", \"w\") as f:\n",
        "    f.write(\n",
        "        \"85\\nAlice\\n92\\nBob\\n76\\nCharlie\\n89\\nDenise\\n92\\nElla\\n\"\n",
        "    )\n",
        "# Get filename from user\n",
        "filename = input(\"Enter a filename (e.g. grades.txt): \")\n",
        "\n",
        "# Create empty dictionary for pairs\n",
        "grades_dict = {}\n",
        "\n",
        "# Build the dictionary\n",
        "with open(filename, 'r') as input_file:\n",
        "    lines= [line.strip() for line in input_file if line.strip() != '']\n",
        "\n",
        "    for i in range(0, len(lines), 2):\n",
        "        grade = int(lines[i])\n",
        "        name = lines[i+1]\n",
        "        if grade not in grades_dict:\n",
        "          grades_dict[grade]=[]\n",
        "        grades_dict[grade].append(name)\n",
        "\n",
        "# Create the file for student grades\n",
        "with open('student_grades.txt', 'w') as output_file1:\n",
        "    for grade in sorted(grades_dict.keys()):\n",
        "        line = f'{grade}: {'; '.join(grades_dict[grade])}\\n'\n",
        "        output_file1.write(line)\n",
        "\n",
        "# Create the file for student names\n",
        "names = []\n",
        "for namelist in grades_dict.values():\n",
        "    names.extend(namelist)\n",
        "with open('student_names.txt', 'w') as output_file2:\n",
        "    for name in sorted(names):\n",
        "        output_file2.write(name + '\\n')\n",
        "\n",
        "\n",
        "# Print contents of student_grades.txt\n",
        "print(\"Contents of student_grades.txt:\")\n",
        "with open(\"student_grades.txt\", \"r\") as f:\n",
        "    print(f.read())\n",
        "\n",
        "# Print contents of student_names.txt\n",
        "print(\"Contents of student_names.txt:\")\n",
        "with open(\"student_names.txt\", \"r\") as f:\n",
        "    print(f.read())"
      ],
      "metadata": {
        "colab": {
          "base_uri": "https://localhost:8080/"
        },
        "id": "y2Vxu0zsXqr-",
        "outputId": "247ef956-41aa-44cf-817f-96ef8814eda7"
      },
      "execution_count": 6,
      "outputs": [
        {
          "output_type": "stream",
          "name": "stdout",
          "text": [
            "Enter a filename (e.g. grades.txt): grades.txt\n",
            "Contents of student_grades.txt:\n",
            "76: Charlie\n",
            "85: Alice\n",
            "89: Denise\n",
            "92: Bob; Ella\n",
            "\n",
            "Contents of student_names.txt:\n",
            "Alice\n",
            "Bob\n",
            "Charlie\n",
            "Denise\n",
            "Ella\n",
            "\n"
          ]
        }
      ]
    },
    {
      "cell_type": "code",
      "source": [
        "# Temporarily change filename and you can save it to a new file\n",
        "# Create the test file\n",
        "with open('files.txt', 'w') as f:\n",
        "    f.write('Yellowstone_photo.jpg\\n')\n",
        "    f.write('Yosemite_photo.jpg\\n')\n",
        "    f.write('Acadia_photo.jpg\\n')\n",
        "filename = input()\n",
        "# Function to test\n",
        "def change_file_names(file_name):\n",
        "    with open(file_name, 'r') as file:\n",
        "        for line in file:\n",
        "            new_name = line.strip().replace('_photo.jpg', '_info.txt')\n",
        "            print(new_name)\n",
        "\n",
        "# Run the function with the test file\n",
        "change_file_names(filename)\n"
      ],
      "metadata": {
        "id": "R58egKWw3g_d",
        "colab": {
          "base_uri": "https://localhost:8080/"
        },
        "outputId": "36586755-4cd6-4869-b012-fe46ffa620cd"
      },
      "execution_count": 17,
      "outputs": [
        {
          "output_type": "stream",
          "name": "stdout",
          "text": [
            "files.txt\n",
            "Yellowstone_info.txt\n",
            "Yosemite_info.txt\n",
            "Acadia_info.txt\n"
          ]
        }
      ]
    },
    {
      "cell_type": "code",
      "source": [
        "# Showing that the file is unchanged\n",
        "with open('files.txt', 'r') as file:\n",
        "    contents = file.read()\n",
        "    print(contents)"
      ],
      "metadata": {
        "colab": {
          "base_uri": "https://localhost:8080/"
        },
        "id": "YTYYk0mLV_YF",
        "outputId": "0659fe68-602a-4489-856d-9156a6136d6a"
      },
      "execution_count": 18,
      "outputs": [
        {
          "output_type": "stream",
          "name": "stdout",
          "text": [
            "Yellowstone_photo.jpg\n",
            "Yosemite_photo.jpg\n",
            "Acadia_photo.jpg\n",
            "\n"
          ]
        }
      ]
    },
    {
      "cell_type": "code",
      "source": [
        "# Permanently change the filenames in the file\n",
        "file_name = input()\n",
        "\n",
        "def change_and_rename_files(file_name):\n",
        "    # Step 1: Read the original contents\n",
        "    with open(file_name, \"r\") as infile:\n",
        "        lines = [line.strip() for line in infile]\n",
        "\n",
        "    # Step 2: Change the contents\n",
        "    new_lines = [line.replace(\"_photo.jpg\", \"_info.txt\") for line in lines]\n",
        "\n",
        "    # Step 3: Write the updated lines back to the file\n",
        "    with open(file_name, \"w\") as outfile:\n",
        "        for line in new_lines:\n",
        "            outfile.write(line + \"\\n\")\n",
        "\n",
        "    # Step 4: Print the updated file contents\n",
        "    print(\"Updated contents of files.txt:\")\n",
        "    with open(file_name, \"r\") as f:\n",
        "        print(f.read())\n",
        "\n",
        "change_and_rename_files(file_name)\n"
      ],
      "metadata": {
        "colab": {
          "base_uri": "https://localhost:8080/"
        },
        "id": "MBau9c5uVagM",
        "outputId": "867526a0-1580-4f9b-f822-ad1368b64545"
      },
      "execution_count": 19,
      "outputs": [
        {
          "output_type": "stream",
          "name": "stdout",
          "text": [
            "files.txt\n",
            "Updated contents of files.txt:\n",
            "Yellowstone_info.txt\n",
            "Yosemite_info.txt\n",
            "Acadia_info.txt\n",
            "\n"
          ]
        }
      ]
    },
    {
      "cell_type": "code",
      "source": [
        "# Showing that the file is changed\n",
        "with open('files.txt', 'r') as file:\n",
        "    contents = file.read()\n",
        "    print(contents)"
      ],
      "metadata": {
        "colab": {
          "base_uri": "https://localhost:8080/"
        },
        "id": "3Y5EcP9tXaPR",
        "outputId": "c8b4e646-b1b6-4611-d79d-6801404fd4e1"
      },
      "execution_count": 20,
      "outputs": [
        {
          "output_type": "stream",
          "name": "stdout",
          "text": [
            "Yellowstone_info.txt\n",
            "Yosemite_info.txt\n",
            "Acadia_info.txt\n",
            "\n"
          ]
        }
      ]
    }
  ]
}